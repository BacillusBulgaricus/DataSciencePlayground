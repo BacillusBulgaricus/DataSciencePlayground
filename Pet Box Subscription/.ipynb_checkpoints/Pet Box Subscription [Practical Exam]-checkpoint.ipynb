{
 "cells": [
  {
   "cell_type": "markdown",
   "id": "cc98917f",
   "metadata": {},
   "source": [
    "# Pet Box Subscription 📦 [Practical Exam]\n",
    "-------"
   ]
  },
  {
   "cell_type": "markdown",
   "id": "3e8e609c",
   "metadata": {},
   "source": [
    "## Company Background 🏢\n",
    "\n",
    "-------\n",
    "\n",
    "**PetMind** is a nationwide pet product retailer in the United States. With inflation hitting 41-year highs, the company is planning to reduce the cost of customer retention by improving brand loyalty. The first strategy is to launch a monthly pet box subscription in three months.\n",
    "\n",
    "The marketing team is preparing a list of popular products for the pet box subscription. The chief marketing officer wants to know whether the list should only include the products being purchased more than once."
   ]
  },
  {
   "cell_type": "markdown",
   "id": "fa0f4add",
   "metadata": {},
   "source": [
    "## Customer Questions ❓❔❓  \n",
    "\n",
    "-------\n",
    "\n",
    "The marketing team would like to answer the following questions to help with the decision:  \n",
    "* How many products are being purchased more than once?\n",
    "* Do the products being purchased again have better sales than others?\n",
    "* What products are more likely to be purchased again for different types of pets?"
   ]
  },
  {
   "cell_type": "markdown",
   "id": "e1cc1eff",
   "metadata": {},
   "source": [
    "## Dataset 🗄   \n",
    "\n",
    "-------\n",
    "\n",
    "The dataset contains the sales records in the stores from last year. The data needs to be validated to comply with the requirements in  the following data dictionary.\n",
    "\n",
    "| Column | Criteria |\n",
    "| :--- | :--- |  \n",
    "| **Product ID** | Character, the unique identifier of the product |\n",
    "| **Product Category** | Character, the category of the product, one of 11 categories |\n",
    "| **Sales** | Numeric, the sales of the product in dollars last year; e.g. `\"$120,000\"` should be converted into `120000` |\n",
    "| **Price** | Numeric, the price of the product in dollars |\n",
    "| **Vendor ID** | Character, the unique identifier of the vendor for the product |\n",
    "| **Pet Size** | Character, the pet size category the product is designed for, one of five size categories |\n",
    "| **Pet Type** | Character, the pet type the product is designed for, one of `cat`, `dog`, `fish`, or `bird`; rows that indicate other pet types should not be included in the analysis |\n",
    "| **Rating** | Numeric, customer's rating of the product (should be on a 10-point scale) |\n",
    "| **Rebuy** | Binary, whether the product is purchased more than once or not (should be `1` or `0`) |"
   ]
  },
  {
   "cell_type": "markdown",
   "id": "caabb3fb",
   "metadata": {},
   "source": [
    "## Project Task List 📋  \n",
    "\n",
    "-------\n",
    "\n",
    "Initially, I created a SQL database `pet_box` and imported the dataset from the `pet_sales.csv` file into it. I created a table `pet_sales_original_data` to preserve the original dataset, and a duplicate table `pet_sales` to work with.  \n",
    "\n",
    "The data validation tasks and the data analysis were conducted using PostgreSQL 14, pgAdmin 4 and `psql` in the command line.   \n",
    "\n",
    "The data visualization tasks were created with the help of `gnuplot 5` and LibreOffice Calc."
   ]
  },
  {
   "cell_type": "markdown",
   "id": "16b59d0d",
   "metadata": {},
   "source": [
    "### 🎯 Data Validation ✅   \n",
    "\n",
    "-------\n",
    "\n",
    "At the beginning of the data validation, the dataset contained **879 rows** and **9 fields**. Each column in the dataset was evaluated individually to meet the criteria in the data dictionary. In the following paragraphs, I describe my validation work process and my findings about each field separately."
   ]
  },
  {
   "cell_type": "markdown",
   "id": "63835155",
   "metadata": {},
   "source": [
    "#### Product ID\n",
    "-------\n",
    "\n",
    "The Product ID column contains the unique identifier of the product, and it is displayed as a _four-digit number_ in the range from `4172` through `5050`. \n",
    "\n",
    "When the dataset was copied into the database, this column was set with the data type `integer`. To comply with the requirements of the data dictionary for a character data type, I changed the data type of this column from `integer` to `varchar`.\n",
    "\n",
    "The field `product_id`:\n",
    "\n",
    "* has a character data type `varchar` as requested in the data dictionary\n",
    "* has 879 unique data points\n",
    "* has no missing values\n",
    "\n",
    "✅ Validated to meet all the requested criteria in the data dictionary."
   ]
  },
  {
   "cell_type": "markdown",
   "id": "68145852",
   "metadata": {},
   "source": [
    "#### Product Category\n",
    "\n",
    "-------\n",
    "\n",
    "The field `product_category`:\n",
    "\n",
    "* has a character data type `text`\n",
    "\n",
    "* has 879 data points\n",
    "\n",
    "* has no missing values\n",
    "\n",
    "* contains 11 unique product categories listed in the following table in alphabetical order\n",
    "  \n",
    "\n",
    "    |      | Product Category |  \n",
    "    | ---: | :--------------- |  \n",
    "    |  1   | Accessory        |  \n",
    "    |  2   | Bedding          |  \n",
    "    |  3   | Clothes          |  \n",
    "    |  4   | Equipment        |  \n",
    "    |  5   | Food             |  \n",
    "    |  6   | Grooming         |  \n",
    "    |  7   | Housing          |  \n",
    "    |  8   | Medicine         |  \n",
    "    |  9   | Snack            |  \n",
    "    |  10  | Supplements      |  \n",
    "    |  11  | Toys             |  \n",
    "\n",
    "\n",
    "✅  Validated to meet all the requested criteria in the data dictionary."
   ]
  },
  {
   "cell_type": "markdown",
   "id": "a456a2ec",
   "metadata": {},
   "source": [
    "#### Sales\n",
    "-------\n",
    "The data in the Sales column was initially of data type `text`. The sales data was copied into the database in its original format containing a currency `$` sign, a monetary value, and a thousands `,` separator, i.e. like `$10,000`. \n",
    "\n",
    "Before reformatting the data, I checked if all values in the `sales` field:\n",
    "\n",
    "- started with a `$` sign\n",
    "\n",
    "- contained a thousands `,` separator\n",
    "\n",
    "- ended with `,000`\n",
    "\n",
    "My SQL queries returned that all 879 data points were formatted with this pattern.\n",
    "\n",
    "The modifications on this column required the use of string functions for string manipulation to remove the `$` sign and  the thousands `,` separator. After the strings for the sales figures were properly modified, the `sales` field was reformatted from a character to a `numeric` data type. As a result, a `text` data point like `\"$10,000\"` was reformatted to a `numeric` data point like `10000`.\n",
    "\n",
    "The field `sales`:\n",
    "\n",
    "* has a `numeric` data type as requested in the data dictionary.\n",
    "\n",
    "* has 879 data points\n",
    "\n",
    "* has no missing values\n",
    "\n",
    "✅ Validated to meet all the requested criteria in the data dictionary."
   ]
  },
  {
   "cell_type": "markdown",
   "id": "282557e6",
   "metadata": {},
   "source": [
    "#### Price\n",
    "-------  \n",
    "The Price column contains the product prices in US dollars. When the dataset was imported into the database, the data type of this column was set to `real`. It is a numeric type, but according to PostgreSQL documentation the `real` data type is of variable precision and inexact. Therefore, I opted to change the data type of this column to `numeric`.\n",
    "\n",
    "The field `price`:\n",
    "\n",
    "* has a `numeric` data type as requested in the data dictionary\n",
    "* has 879 data points\n",
    "* has no missing values\n",
    "\n",
    "✅ Validated to meet all the requested criteria in the data dictionary."
   ]
  },
  {
   "cell_type": "markdown",
   "id": "292b059b",
   "metadata": {},
   "source": [
    "#### Vendor ID\n",
    "-------\n",
    " The field `vendor_id`:\n",
    "\n",
    "* has a character data type `text`\n",
    "* has 879 data points\n",
    "* has no missing values\n",
    "\n",
    "✅ Validated to meet all the requested criteria in the data dictionary."
   ]
  },
  {
   "cell_type": "markdown",
   "id": "ecf835ff",
   "metadata": {},
   "source": [
    "#### Pet Size\n",
    "-------  \n",
    "The field `pet_size`:\n",
    "\n",
    "* has a character data type `text`\n",
    "\n",
    "* has 879 data points\n",
    "\n",
    "* has no missing values\n",
    "\n",
    "* has five distinct size categories listed in the following table\n",
    "\n",
    "\n",
    "    |      | Pet Size    |  \n",
    "    | :--: | :---------- |  \n",
    "    |  1   | extra_small |  \n",
    "    |  2   | small       |  \n",
    "    |  3   | medium      |  \n",
    "    |  4   | large       |  \n",
    "    |  5   | extra_large |  \n",
    "\n",
    "\n",
    "✅ Validated to meet all the requested criteria in the data dictionary."
   ]
  },
  {
   "cell_type": "markdown",
   "id": "f7a0f6cb",
   "metadata": {},
   "source": [
    "#### Pet Type\n",
    "-------\n",
    "The field `pet_type`: \n",
    "\n",
    "* has a character data type `text`\n",
    "\n",
    "* has 879 data points\n",
    "\n",
    "* has no missing values\n",
    "\n",
    "* has six distinct categories listed in the following table\n",
    "\n",
    "    |      | Pet Type  | Included in Analysis |\n",
    "    | :--: | :-------- | :------------------: |\n",
    "    |  🐦   | bird    |          ☑️           |\n",
    "    |  🐱   | cat     |          ☑️           |\n",
    "    |  🐶   | dog     |          ☑️           |\n",
    "    |  🐠   | fish    |          ☑️           |\n",
    "    |  🐹   | hamster |          ❌           |\n",
    "    |  🐰   | rabbit  |          ❌           |\n",
    "\n",
    "\n",
    "\n",
    "The pet types `hamster` and `rabbit` were not included in the analysis. The data was retained in the database but filtered out in the course of the analysis.\n",
    "\n",
    "✅ Validated to meet all the requested criteria in the data dictionary."
   ]
  },
  {
   "cell_type": "markdown",
   "id": "c681189f",
   "metadata": {},
   "source": [
    "#### Rating\n",
    "-------  \n",
    "The field `rating`:\n",
    "\n",
    "* has a numeric data type `integer`\n",
    "* has 879 data points\n",
    "* has no missing values\n",
    "* has 10 distinct values from `1` through `10` representing a 10-point scale for customers' product ratings\n",
    "\n",
    "✅ Validated to meet all the requested criteria in the data dictionary."
   ]
  },
  {
   "cell_type": "markdown",
   "id": "ec0482b6",
   "metadata": {},
   "source": [
    "#### Rebuy\n",
    "-------\n",
    "At the creation of the database, the data in the field `re-buy` was imported with data type `integer`. The data dictionary requests a binary data type. As `integer` cannot be cast directly to a binary data type, I first changed `integer` to a character data type using the function `TO_CHAR()`. After that, the character data type was cast to binary and the data in the column `re_buy` was saved as `bytea`.\n",
    "\n",
    "The field `re_buy`:\n",
    "\n",
    "* has a binary data type `bytea` \n",
    "* has a binary variable categorization with `1` for _purchased more than once_ and `0` for _not purchased more than once_\n",
    "* has 879 data points\n",
    "* has no missing values\n",
    "\n",
    "✅ Validated to meet all the requested criteria in the data dictionary."
   ]
  },
  {
   "cell_type": "markdown",
   "id": "c2e55c6e",
   "metadata": {},
   "source": [
    "After data validation and performing the necessary tasks to make the data compliant with the requirements of the data dictionary, I finally had an analysis-ready dataset available."
   ]
  },
  {
   "cell_type": "markdown",
   "id": "d33da127",
   "metadata": {},
   "source": [
    "### 🎯 Data Visualization and Analysis 📊   \n",
    "-------  \n",
    "**PetMind** is struggling financially under the worsening economic environment due to the increasing rate of inflation. The company is looking for options to optimize its financial situation by cutting down on marketing costs. The cost of customer retention needs to be reduced by improving brand loyalty. For this reason, a new sales measure is included in the marketing strategy — a subscription service named **Pet Box Subscription**. It should contain popular pet items/services.\n",
    "\n",
    "In the following paragraphs, I will provide answers to PetMind's marketing questions using data analysis and data visualizations."
   ]
  },
  {
   "cell_type": "markdown",
   "id": "15eb27e5",
   "metadata": {},
   "source": [
    "#### 1. Question: How many products are purchased more than once?\n",
    "-------\n",
    "To answer this question, I used descriptive statistics to evaluate numerical data.  \n",
    "\n",
    "The dataset contains data for six pet types with a total number of 879 product sales. This analysis focuses on product sales for only four pet types: `bird`, `cat`, `dog`, and `fish`. The data for `hamster` and `rabbit` is filtered out and not included.\n",
    "\n",
    "After eliminating the redundant data for `hamster` and `rabbit`, the **total number of product sales** for the four pet types under investigation amounts to **833**. Of these **833** product sales, **443** products were purchased only once and **390** were purchased more than once.\n",
    "\n",
    "The following table summarizes the results and provides an answer to the first question.\n",
    "\n",
    "| Product Sales for `bird`, `cat`, `dog`, and `fish` | Number of Product Sales | % of Purchases | \n",
    "| :------------------------------------------------- | ----------------------: | -------------: |\n",
    "| Products **_purchased once_**                      |                 **443** |       _53.18%_ |\n",
    "| Products **_purchased more than once_**            |                 **390** |       _46.82%_ |\n",
    "| Total:                                             |                 **833** |         _100%_ |\n",
    "\n",
    "The products purchased more than once are **390**  and account for **46.82%** of the total number of products sold."
   ]
  },
  {
   "cell_type": "markdown",
   "id": "c8075ea5",
   "metadata": {},
   "source": [
    "This bar chart visualizes the number of products sold in percentages, split by single and repeated purchases.\n",
    "\n",
    "![bar plot number of product sales in percentages](assets/bar_chart_product_sales_in_percentages.png)\n",
    "\n",
    "The plot illustrates that the number of products purchased more than once is 6.36% smaller than the number of single purchases. Based on the above calculations and analysis, a decision to include only products being purchased more than once for the list with offers for the Pet Box subscription cannot be justified.\n",
    "\n",
    "But the number of products sold is not the best key performance indicator to make a solid business decision. Other variables that influence sales performance must also be taken into account, and this will be analyzed in more detail in the following paragraphs. "
   ]
  },
  {
   "cell_type": "markdown",
   "id": "f1aba1c4",
   "metadata": {},
   "source": [
    "#### 2. Question: Do the products being purchased again have better sales than others?\n",
    "-------\n",
    "The individual products have diverse price tags and belong to different price categories. The number of purchases alone cannot be a valid indicator for the sales performance as the products generate different revenue which is influenced not only by the number of sales but also by price, profit margin, sales discount, etc. \n",
    "\n",
    "The second question requires a monetary comparison of the sales volumes in USD for single and repeated purchases, which are summarized in the following table.\n",
    "\n",
    "| Product Sales for `bird`, `cat`, `dog`, and `fish` |     Sales in $ | % of Sales Volume |\n",
    "| :------------------------------------------------- |  ------------: | ----------------: |\n",
    "| Products **_purchased once_**                      | **51,125,000** |          _52.86%_ |\n",
    "| Products **_purchased more than once_**            | **45,587,000** |          _47.14%_ |\n",
    "| Total:                                             | **96,712,000** |            _100%_ |\n",
    "\n",
    "\n",
    "This bar chart visualizes the sales volume in percentages, split by single and repeated purchases.\n",
    "\n",
    "![bar plot sales volume in percentages](assets/bar_chart_product_sales_in_sales_volume.png)\n",
    "\n",
    "The products purchased more than once do not have a better sales performance based on revenue generated. Their sales volume amounts to **$45,587,000** and this accounts for **47,14%** of the total sales revenue.\n",
    "\n",
    "In both criteria, by the number of sales and by sales revenue, the products purchased more than once perform slightly worse than the products purchased once. "
   ]
  },
  {
   "cell_type": "markdown",
   "id": "cc6e2e99",
   "metadata": {},
   "source": [
    "Sales volume is a better performance indicator than just a mere count of the number of single and repeated purchases. Therefore, I opted for a deeper analysis of the `sales` variable for products purchased more than once, as they are the main topic of the marketing questions asked.  \n",
    "\n",
    "The following tables display reference information about the measures of center and measures of spread regarding sales of products purchased more than once.\n",
    "\n",
    "| Measures of Center | Value         |\n",
    "| :----------------- | ------------: |\n",
    "| Mean               |  4,144,272.73 |\n",
    "| Median             |  3,069,000.00 |\n",
    "\n",
    "\n",
    "| Measures of Spread | Value         |\n",
    "| :----------------- | ------------: |\n",
    "| Min                |  2,109,000.00 |\n",
    "| Max                |  8,660,000.00 |\n",
    "| Standard deviation |  2,117,874.50 |"
   ]
  },
  {
   "cell_type": "markdown",
   "id": "2ee279fc",
   "metadata": {},
   "source": [
    "To further explore the sales among the product categories with repeated sales, I created a frequency distribution table, and its data is visualized in the histogram plot displayed below. The range of the bins (classes) is set to `$0.5MM` (`$500,000`).\n",
    "\n",
    "![histogram frequency distribution of sales revenue](assets/histogram.png)\n",
    "\n",
    "The histogram is not symmetrical and does not represent a normal distribution with the typical shape of a bell curve. This histogram peaks on the left and tails off to the right, i.e. it is positive/right-skewed. The histogram peak is closer to the median value, and its kurtosis is leptokurtic. Three outliers separated from the main body of the histogram are an indicator for three product categories in which sales revenue stands out."
   ]
  },
  {
   "cell_type": "markdown",
   "id": "78f27cc1",
   "metadata": {},
   "source": [
    "To identify these product categories, I visualized the sales data by product category for products with multiple purchases in the following bar chart.\n",
    "\n",
    "![bar chart sales by product category](assets/bar_chart_sales_revenue_by_product_category.png)\n",
    "\n",
    "The product categories that stand out as outliers in the histogram plot can be identified on the top of the bar chart as Equipment, Snack, and Toys.\n"
   ]
  },
  {
   "cell_type": "markdown",
   "id": "d9e4690f",
   "metadata": {},
   "source": [
    "The analysis of the PetMind sales provided the following insights. Comparing the sales volumes of products purchased once and of products purchased more than once showed that a slightly higher revenue is generated by products with single purchases. A deeper analysis of the distribution of sales revenue among all product categories illustrated that the sales are unevenly distributed among product segments, with three categories with above-average performance, i.e. Equipment, Snack, and Toys. \n",
    "\n",
    "Based on sales performance, the products purchased more than once should not be the only preference for the list of products for the Pet Box Subscription.\n",
    "\n",
    "As the product assortment of PetMind is targeted at owners of different pet types, the marketing strategy requires further investigation of the sales performance not only based on product types but also based on different breeds of pets. This will be the subject of analysis of the following third marketing question."
   ]
  },
  {
   "cell_type": "markdown",
   "id": "9beeb717",
   "metadata": {},
   "source": [
    "#### 3. Question: What products are more likely to be purchased again for different types of pets?\n",
    "-------\n",
    "\n",
    "To obtain an answer to the third marketing question, the sales performance of the products purchased more than once requires a more granular analysis of sales by product category and by pet type.\n",
    "\n",
    "At first, I examined the likelihood of repeated product purchases by product category and by pet type using inferential statistics, in particular by calculating the probability of a repeated purchase based on the number of products purchased more than once.\n",
    "\n",
    "The purchase of a particular product in this analysis is considered an independent event, i.e, not necessarily dependent on or influenced by the purchase of another product. The probability was calculated by dividing the number of products purchased more than once by the total number of repurchases in the product category for a particular pet type. The following pivot table summarizes the calculations made.\n",
    "\n",
    "\n",
    "| Product Category | Bird (#) | Bird (prblty%) | Cat (#) | Cat (probly%) | Dog (#) | Dog(prblty%) | Fish (#) | Fish (prblty%) | Total (#) | Total (prblty%) |\n",
    "| ---------------: | ---: | --: | --: | ---: | ----: | ---: | ---: | ---: | ---: | ---: |\n",
    "| Equipment        |\t7 | **25.00%** |\t 27 | **16.36%** |  28 | **16.47%** |     7 | **25.93%** |    69 |17.69%|\n",
    "| Snack            |    7 | **25.00%** | 19 | **11.52%** | 25 | **14.71%** | 8 | **29.63%** | 59 |15.13%|\n",
    "| Toys             |\t7 | **25.00%** | 25\t| **15.15%** | 19 | 11.18% | 7 | **25.93%** | 58 |14.87%|\n",
    "| Medicine         |\t1 | 3.57% |  15\t| 9.09% | 20 | **11.76%** | 1 | 3.70% | 37 |9.49%|\n",
    "| Food             |\t1 | 3.57% |  18\t| 10.91% | 17 | 10.00% | 1 | 3.70% |  37 |9.49%|\n",
    "| Supplements      |\t1 | 3.57% |  17\t| 10.30% | 11 | 6.47% | 1 | 3.70% | 30 |7.69%|\n",
    "| Bedding          |\t1 | 3.57% |   9\t| 5.45% | 14 | 8.24% | 0 | 0.00% |  24 |6.15%|\n",
    "| Accessory        |\t1 | 3.57% |   9\t| 5.45% | 10 | 5.88% | 0 | 0.00% | 20 |5.13%|\n",
    "| Housing          |\t1 | 3.57% |   9\t| 5.45% |  8 | 4.71% | 2 | 7.41% | 20 |5.13%|\n",
    "| Clothes          |\t1 | 3.57% |  10\t| 6.06% |  8 | 4.71% | 0 | 0.00% |  19 |4.87%|\n",
    "| Grooming         |\t0 | 0.00% |   7\t| 4.24% | 10 | 5.88% |  0 | 0.00% |   17 |4.36%|\n",
    "| Total:           |   28 | 100.00% | 165 | 100.00% | 170 | 100.00% |  27 | 100.00% | 390 |100.00%|\n",
    "\n",
    "\n",
    "The probability values (expressed in %) in this table indicate some differences in the likelihood of repeated product purchases. Products for `bird`, `cat`, and `fish` share the same three top categories (Equipment, Snack, Toys). But the products for `dog` include only the two top mutual categories (Equipment and Snack), with a new third top category — Medicine.\n",
    "\n",
    "As already mentioned in the earlier stages of this analysis, I do not consider the mere count of sales a valid key indicator for sales performance. The bottom line of a company is affected not only by generating a particular number of sales but by generating a particular sales volume. \n",
    "\n",
    "Therefore, I would like to provide the answer to the third marketing question by analyzing the monetary sales volume and not just the number of sales."
   ]
  },
  {
   "cell_type": "markdown",
   "id": "6a50065e",
   "metadata": {},
   "source": [
    "The data necessary for this analysis was extracted from the database and summarized in the following pivot table.\n",
    "\n",
    "![pivot_table_with_heat_map](assets/heat_map.png)\n",
    "\n",
    "The pivot table contains the sales figures in USD by product category and by pet type. The data is sorted by total sales volume by product category in descending order, and then by sales for each pet type. To better visualize the sales performance, a heat map was imposed over the sales data. This heat map was generated using a segmentation by 25th, 50th, and 75th percentiles.\n",
    "\n",
    "This analysis provided the following insights to answer the third marketing question. Most products purchased more than once are concentrated in the segments targeted at dog and cat owners. The total sales figures for cat and dog products exceed nearly six times the sales for bird and fish products. The darker green shades on the heat map identify the top sales by product category and by pet type. The sales of cat and dog products deliver above-average performance in nine out of eleven product categories, with top three categories for cat products being Equipment, Food, and Toys, and the top three product segments for dogs being Equipment, Snack, and Medicine. The top sales for bird and fish products come close only to the 50th percentile of total sales. The pet types bird and fish share the same top three product categories — Equipment, Snack, and Toys."
   ]
  },
  {
   "cell_type": "markdown",
   "id": "3302219c",
   "metadata": {},
   "source": [
    "The following bar chart graphically visualizes the above insights for the sales performance by product category and pet type.\n",
    "\n",
    "![bar_chart](assets/revenue_per_category_per_pet2.png)\n"
   ]
  },
  {
   "cell_type": "markdown",
   "id": "540468be",
   "metadata": {},
   "source": [
    "This analysis explored the products purchased more than once from two different perspectives ― once based on the number of purchases and once based on the sales volumes in USD. The second perspective provides more detailed and valuable insights for making informed business decisions. \n",
    "\n",
    "By exploring the data to provide answers for the marketing team of PetMind regarding its new planned service Pet Box Subscription, I gained the following insights. To include _only_ products that were purchased more than once in the PetMind stores in the last year in the list of products for the new subscription service is not justified by the provided analysis of the sales data. Most product sales of PetMind are generated by products targeted at dog and cat owners, and these sales are spread among a wide product portfolio. Concentrating on just products that were purchased more than once and including bird and fish products with a high likelihood of repurchases will have an unfavorable impact on the success of the new service, and in effect also on the company's profitability. \n",
    "\n",
    "I recommend starting the Pet Box Subscription service by targeting dog and cat owners with offers of a broader range of products/services. Before making a final decision on the list of products for the subscription service, I would conduct a customer survey to inquire about customer inclinations to utilize such services, and about customers' preferences on subscription customization. I would design the subscription product list in a way to provide the customers with an option to personalize their Pet Box Subscription. This would lead to better customer satisfaction and to more loyal customers, which is the main intent of the introduction of the subscription service. After the launch of the service and evaluation of its initial performance and results, I would consider expanding the offer also to products and services for the more marginal pet types — bird and fish. But initially, the main focus of the new Pet Box Subscription should be on the top-tier pet types which generate the biggest stake in the profits of the company."
   ]
  }
 ],
 "metadata": {
  "kernelspec": {
   "display_name": "Python 3 (ipykernel)",
   "language": "python",
   "name": "python3"
  },
  "language_info": {
   "codemirror_mode": {
    "name": "ipython",
    "version": 3
   },
   "file_extension": ".py",
   "mimetype": "text/x-python",
   "name": "python",
   "nbconvert_exporter": "python",
   "pygments_lexer": "ipython3",
   "version": "3.10.12"
  }
 },
 "nbformat": 4,
 "nbformat_minor": 5
}
