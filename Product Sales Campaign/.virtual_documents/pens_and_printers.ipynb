











# Import Python packages.
import numpy as np
import pandas as pd
import matplotlib.pyplot as plt
import seaborn as sns
from scipy.stats import linregress
import warnings

# Suppress all FutureWarnings.
warnings.simplefilter(action='ignore', category=FutureWarning)


# Import Pens and Printers dataset from product_sales.csv file.
product_sales = pd.read_csv('datasets/product_sales.csv')

# Initial dataset exploration.
product_sales.head()


# Check the DataFrame structure.
product_sales.info()

# Check the number of DataFrame elements.
product_sales.size

# Check for duplicate values.
product_sales.duplicated().any()








# Data validation of the 'week' column.
print(product_sales['week'].unique()) 
print(product_sales['week'].nunique())
print(product_sales['week'].value_counts().sort_index())





# Data validation of 'sales_method' column.
print(product_sales['sales_method'].nunique())
print(product_sales['sales_method'].unique())
print(product_sales['sales_method'].value_counts().sort_index())


# Replace mislabeled subcategories.
product_sales['sales_method'] = product_sales['sales_method'].str.replace('em + call', 'Email + Call').str.replace('email', 'Email')
print(product_sales['sales_method'].value_counts().sort_index())





# Data validation of 'customer_id' column.
print(product_sales['customer_id'].dtype)
customer_id_length = product_sales['customer_id'].apply(len)
print(customer_id_length.value_counts())
product_sales['customer_id'].duplicated().any()
product_sales['customer_id'].nunique()





# Data validation of `nb_column` column.
product_sales['nb_sold'].value_counts().sort_index()





# Data validation of the 'revenue' column.
# Calculate correlation matrix for numeric variables. 
product_sales.corr(numeric_only=True)


# Count the number of missing values in the revenue column.
missing_values = product_sales['revenue'].isna().sum()
print(missing_values)

# Calculate 'revenue' missing values per nb_sold.
print(product_sales[product_sales['revenue'].isna()]['nb_sold'] \
                                            .value_counts().sort_index())

# Calculate threshold for data imputation.
threshold = len(product_sales) * 0.05
print(threshold)

# Compare missing values to threshold.
if missing_values > threshold:
    print("Impute!")
else:
    print("Drop missing values!")


# Calculate the means for the data imputation.
imputation_means = {}
keys = range(7, 17)
for k in keys:
    imputation_means[k] = round(np.mean(product_sales[product_sales['nb_sold'] == k]['revenue'].dropna()), 2)
print(imputation_means)


# Data imputation in the 'revenue' column by sub-category.
product_sales['revenue'] = product_sales['revenue'].fillna(product_sales['nb_sold'].map(imputation_means))
product_sales['revenue'].isna().sum()
product_sales['revenue'].describe()





# Data validation of the 'years_as_customer' column.
product_sales['years_as_customer'].value_counts()
product_sales[product_sales['years_as_customer'].isin([47,63])]
product_sales['years_as_customer'] = product_sales['years_as_customer'].replace(47, 37).replace(63, 36)
product_sales['years_as_customer'].value_counts().sort_index()
product_sales['years_as_customer'].agg(['min', 'max'])





# Data validation of the `nb_site_visits` column.
product_sales['nb_site_visits'].value_counts().sort_index()





# Data validation of the 'state' column.
product_sales['state'].nunique()
product_sales['state'].value_counts().sort_index()








# How many customers were there for each approach.
product_sales.groupby('sales_method') \
             .agg(number_of_customers=('customer_id', 'count')) \
             .sort_values('number_of_customers', ascending=False) \
             .assign(percentage_of_customers = lambda x: round(x.number_of_customers / sum(x.number_of_customers), 3))





# Create a count plot visualizing the segmentation of customers 
# by sales method they were targeted.
sns.set_style('darkgrid')

sns.countplot(data=product_sales,
              x='sales_method',
              order=['Email', 'Call', 'Email + Call'])
plt.title("Number of Customers per Sales Approach", 
          y=1.03,
          fontsize=15)
plt.xlabel("Sales Method",
           labelpad=10)
plt.ylabel("Number of Customers", 
           labelpad=10)
plt.show()








# Visualize the overall revenue distribution in a histogram.
sns.histplot(data=product_sales,
             x='revenue',
             bins=15
            )
plt.title("Frequency Distribution of Revenue",
          y=1.03,
          fontsize=15)
plt.axvline(x=product_sales.revenue.median(), 
            color='green', 
            ls='--', 
            lw=1.75, 
            label='median')
plt.axvline(x=product_sales.revenue.mean(), 
            color='darkorange', 
            label='mean')
plt.xlabel("Revenue (USD)", labelpad=10)
plt.ylabel("Frequency", labelpad=10)
plt.legend()
plt.show()





# Compare mean and median of 'revenue'.
product_sales['revenue'].agg(revenue_mean = 'mean',
                             revenue_median = 'median')





# Plot the overall revenue distribution with 'sales_method' as semantic variable
sns.histplot(data=product_sales,
             x='revenue',
             bins=15,
             hue='sales_method', 
             hue_order=['Email + Call', 'Email', 'Call'],
            )
plt.title("Frequency Distribution of Revenue\n by Sales Method",
          y=1.03,
          fontsize=15)
plt.xlabel("Revenue (USD)", labelpad=10)
plt.ylabel("Frequency", labelpad=10)
plt.show()





# Visualize the spread of the revenue by sales method with a violin plot.
sns.violinplot(data=product_sales,
               x='revenue',
               y='sales_method',
               order=['Email + Call', 'Email', 'Call'],
               width=1,
               scale='width',
               scale_hue=False
               )
plt.title("Spread of Revenue by Sales Method",
          fontsize=15,
          y=1.02)
plt.xlabel("Revenue (USD)", labelpad=10)
plt.ylabel("Sales Method", labelpad=10)
plt.show()





# Visualize the frequency distribution with a box plot.
sns.boxplot(data=product_sales,
            x='revenue',
            y='sales_method',
            sym="",
            order=['Email + Call', 'Email', 'Call'],
           )
plt.title("Revenue Distribution by Sales Method",
          y=1.03,
          fontsize=15)
plt.xlabel("Revenue (USD)",
           labelpad=10)
plt.ylabel("Sales Method",
           labelpad=10)
plt.show()








# Revenue distribution by weeks.
sns.lineplot(data=product_sales,
             x='week',
             y='revenue',
             hue='sales_method',
             hue_order=['Email + Call', 'Email', 'Call'],
             marker='o',
             )
plt.title("Revenue Growth by Sales Method\n(first 6 weeks since promotion launch)",
          y=1.03, 
          fontsize=15)
plt.xlabel("")
plt.ylabel("Revenue (USD)", labelpad=15)
plt.xticks([1, 2, 3, 4, 5, 6], ['$1^{st}$\nweek',
                                '$2^{nd}$\nweek', 
                                '$3^{rd}$\nweek', 
                                '$4^{th}$\nweek', 
                                '$5^{th}$\nweek', 
                                '$6^{th}$\nweek'])
plt.show()





# Visualize revenue growth over time with linear regression trendline.
sns.lmplot(data=product_sales,
           x='week',
           y='revenue',
           hue='sales_method',
           hue_order=['Email + Call', 'Email', 'Call'])
plt.xticks([1, 2, 3, 4, 5, 6], ['$1^{st}$\nweek',
                                '$2^{nd}$\nweek', 
                                '$3^{rd}$\nweek', 
                                '$4^{th}$\nweek', 
                                '$5^{th}$\nweek', 
                                '$6^{th}$\nweek'])
plt.title("Linear Regression of Revenue Growth \nper Sales Method",
          y=1.03, 
          fontsize=15)
plt.xlabel("")
plt.ylabel("Revenue (USD)")
plt.show()


# Calculate the linear regression for 'Call' sales method.
lreg_call = linregress(product_sales[product_sales['sales_method'] == 'Call']['week'],
                 product_sales[product_sales['sales_method'] == 'Call']['revenue'])
print(lreg_call)

# Calculate the linear regression for 'Email' sales method
lreg_email = linregress(product_sales[product_sales['sales_method'] == 'Email']['week'],
                 product_sales[product_sales['sales_method'] == 'Email']['revenue'])
print(lreg_email)

lreg_e_c = linregress(product_sales[product_sales['sales_method'] == 'Email + Call']['week'],
                 product_sales[product_sales['sales_method'] == 'Email + Call']['revenue'])
print(lreg_e_c)





# Create a pivot table.
pivot_table = product_sales.pivot_table(values='revenue',
                                        index='sales_method',
                                        columns='week')

# Create a heatmap of revenue growth by week.
sns.heatmap(data=pivot_table.sort_values('sales_method', ascending=False),
            annot=True,
            fmt='.2f',
            xticklabels=['$1^{st}$\nweek',
                         '$2^{nd}$\nweek', 
                         '$3^{rd}$\nweek', 
                         '$4^{th}$\nweek', 
                         '$5^{th}$\nweek', 
                         '$6^{th}$\nweek'],
           )
plt.yticks(rotation=0)
plt.title("Revenue per Sales Method and Week",
          y=1.03,
          fontsize=15)
plt.xlabel('')
plt.ylabel("Sales Method")
plt.show()





# Visualize revenue over time per sales method.
g1 = sns.relplot(data=product_sales,
                 kind='line',
                 x='week',
                 y='revenue',
                 col='sales_method',
                 col_order=['Call', 'Email', 'Email + Call'],
                 hue='sales_method',
                 hue_order=['Email + Call', 'Email', 'Call'],
                 legend=False
                )
g1.fig.suptitle("Revenue by Sales Method per Week",
                 fontsize=15,
                 y=1.03)
g1.set_titles("{col_name}")
g1.set(xlabel="Week",
	   ylabel="Revenue (USD)")

# Visualize number of orders per sales method.
g2 = sns.catplot(data=product_sales,
                 kind='count',
                 x='week',
                 col='sales_method',
                 col_order=['Call', 'Email', 'Email + Call']
                )
g2.fig.suptitle("Number of Sales Orders per Week",
                 fontsize=15,
                 y=1.03)
g2.set_titles("{col_name}")
g2.set(xlabel="Week",
	   ylabel="Number of Orders")

# Visualize number of items ordered per week.
g3 = sns.catplot(data=product_sales,
                 x='week',
                 y='nb_sold',
                 kind='violin',
                 col='sales_method',
                 col_order=['Call', 'Email', 'Email + Call'],
                 # estimator='mean',
                 # scale='width',
                )
g3.fig.suptitle("Number of Items Ordered per Week",
                 fontsize=15,
                 y=1.03)
g3.set_titles("{col_name}")
g3.set(xlabel="Week",
	   ylabel="Number of Items Ordered")
plt.show()











# Calculate the total revenue by sales method.
product_sales.groupby('sales_method') \
             .agg(total_revenue = ('revenue', 'sum')) \
             .sort_values('total_revenue', ascending=False) \
             .assign(percentage_of_total_revenue = lambda x: round(x.total_revenue / sum(x.total_revenue), 2))


# Visualize total revenue by sales method.
sns.barplot(data=product_sales,
            x='sales_method',
            y='revenue',
            hue_order=['Email + Call', 'Email', 'Call'],
            estimator='sum',
            errorbar=None
           )
plt.title("Total Revenue per Sales Method",
          fontsize=15,
          y=1.03)
plt.xlabel("")
plt.ylabel("Revenue (USD)", labelpad=10)
plt.yticks([100000, 200000, 300000, 400000, 500000, 600000, 700000],
           ["100K", "200K", "300K", "400K", "500K", "600K", "700K"])
plt.show()





# Revenue vs years as a client.
sns.barplot(data=product_sales,
            x='years_as_customer',
            y='revenue',
            estimator='sum',
            errorbar=None,
            width=1,
            saturation=0.9
            )
plt.title("Total Revenue by Years as Customer",
          y=1.03,
          fontsize=15)
plt.xticks(range(0, 39, 5))
plt.yticks(range(50000, 300000, 50000))
plt.xlabel("Years as Customer",
           labelpad=10)
plt.ylabel("Total Revenue (USD)",
           labelpad=10)
plt.yticks([50000, 100000, 150000, 200000, 250000],
           ["50K", "100K", "150K", "200K", "250K"])
plt.show()





# Explore customer base geographically.
revenue_vs_clients = product_sales.groupby('state').agg(total_revenue = ('revenue', 'sum'), number_clients = ('customer_id', 'count')).sort_values(['total_revenue', 'number_clients'], ascending = [False, False])
print(revenue_vs_clients)

# Average revenue per client
revenue_per_client = revenue_vs_clients.assign(revenue_per_client = revenue_vs_clients['total_revenue']/revenue_vs_clients['number_clients']).reset_index()

# Top 10 US states with highest revenues
print(revenue_per_client.sort_values('total_revenue', ascending=False).head(10))

# Top 10 US states with highest revenue per client
print(revenue_per_client.sort_values('revenue_per_client', ascending=False).head(10))

revenue_per_client.sort_values('total_revenue', ascending=False).head(10)['total_revenue'].sum() / revenue_per_client.sort_values('total_revenue', ascending=False)['total_revenue'].sum()


# Top ten states by Total Revenue.
sns.barplot(data=revenue_per_client.head(10),
            x='total_revenue',
            y='state')
plt.title("Top Ten US States by Total Revenue (USD)",
          fontsize=15,
          y=1.03)
plt.xlabel("Total Revenue (USD)", labelpad=10)
plt.ylabel("US State", labelpad=10)
plt.xticks([0, 25000, 50000, 75000, 100000, 125000, 150000, 175000],
           ["0", "25K", "50K", "75K", "100K", "125K", "150K", "175K"])
plt.show()



