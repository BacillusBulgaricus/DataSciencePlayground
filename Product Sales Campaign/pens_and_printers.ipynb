{
 "cells": [
  {
   "cell_type": "markdown",
   "id": "3333cb97-bdc3-4ff8-abf1-e23db3865007",
   "metadata": {},
   "source": [
    "# 🖋 Pens and Printers 🖨"
   ]
  },
  {
   "cell_type": "markdown",
   "id": "b40287e1-5b1c-42cf-a54f-3220e45e38ac",
   "metadata": {},
   "source": [
    "## 🏛 Company Profile\n",
    "\n",
    "**Pens and Printers** was founded in 1984 as a brick-and-mortar wholesale supply company. Its business is reselling high-quality office products to large organizations, i.e. it operates in the Business-to-Business (B2B) segment.\n",
    "\n",
    "Pens and Printers distributes a wide range of premium office supplies — from small stationery accessories through office furniture to computer hardware. \n",
    "\n",
    "Through long-lasting business relationships, the company has established a reputation as a trusted business partner and a reliable supplier of high-quality office products.\n",
    "\n",
    "Pens and Printers adapted to the changing business environment by branching into online services. The company added an e-commerce website to its distribution channels to better serve its customers, as it realized that many businesses procure their office supplies in new ways. \n",
    "\n",
    "Pens and Printers is aware that its sales strategies need to adopt new tactics to better address the evolving purchase behavior of its clients."
   ]
  },
  {
   "cell_type": "markdown",
   "id": "4931dd62-a84a-41d2-be6b-411a6b9bfa3e",
   "metadata": {},
   "source": [
    "## 🎯 Analysis Focus\n",
    "\n",
    "Six weeks ago Pens and Printers launched a new product line of office stationery. The company realized that despite the advancing digitalization of the business world, there is still a high demand for physical office stationery that cannot be replaced by digital alternatives.\n",
    "\n",
    "The marketing strategy for the new product launch is to offer tools for brainstorming that reinforce creativity and focus.\n",
    "\n",
    "Launching a new product line incurs high expenses and the company is looking for the best techniques to sell the new products most cost-effectively.\n",
    "\n",
    "To analyze the initial results from the product launch campaign, a sales representative from Pens and Printers provided a dataset from the company's sales tracking system. These data serve as the basis for current analysis of the applied new product sales methods. \n",
    "\n",
    "For the new product line launch Pens and Printers applied three different sales strategies to three different customer groups.\n",
    "\n",
    "| Sales Strategy | Execution | Time and Effort |\n",
    "| --- | --- | --- | \n",
    "| **targeted email** | one email sent at product launch,<br/> a follow-up email three weeks later | requires very little work from the sales team |\n",
    "| **phone call** | phone call by a sales representative | average phone call duration: <br/>30 minutes per customer |\n",
    "| **email and phone call** | one email sent at product launch, <br/>a follow-up phone call by a sales representative a week later | email requires very little effort; <br/>average follow-up phone call duration: <br/>10 minutes per customer |\n",
    "\n",
    "This data analysis aims at answering the following questions about Pens and Printers' latest sales campaign:\n",
    "\n",
    "* How many customers were there for each sales approach?\n",
    "* What does the spread of the revenue look like overall? And for each method?\n",
    "* Was there any difference in revenue over time for each of the sales methods?\n",
    "* Based on the data (time, effort, results per sales strategy), which method would you recommend we continue to use?\n",
    "* Provide context about customer groups, an overview of what is going on, and what to do next."
   ]
  },
  {
   "cell_type": "markdown",
   "id": "504649cf-7082-413e-9531-f68511aa6543",
   "metadata": {},
   "source": [
    "## ✅ Data Validation\n",
    "\n",
    "Pens and Printers provided a dataset from the company's sales tracking system.\n",
    "\n",
    "For my data analysis, I created a notebook in JupyterLab and imported the necessary Python packages. \n",
    "\n",
    "I loaded Pens and Printers' dataset file `product_sales.csv` into a `pandas` DataFrame named `product_sales`."
   ]
  },
  {
   "cell_type": "code",
   "execution_count": 1,
   "id": "bdedb741-b4b4-49a9-a3f9-c15ef9e4a180",
   "metadata": {
    "tags": []
   },
   "outputs": [],
   "source": [
    "# Import Python packages.\n",
    "import numpy as np\n",
    "import pandas as pd\n",
    "import matplotlib.pyplot as plt\n",
    "import seaborn as sns\n",
    "from scipy.stats import linregress\n",
    "import warnings\n",
    "\n",
    "# Suppress all FutureWarnings.\n",
    "warnings.simplefilter(action='ignore', category=FutureWarning)"
   ]
  },
  {
   "cell_type": "code",
   "execution_count": 2,
   "id": "cc6c44f0-9c47-4ff6-8eef-8a17605aef36",
   "metadata": {
    "tags": []
   },
   "outputs": [
    {
     "data": {
      "text/html": [
       "<div>\n",
       "<style scoped>\n",
       "    .dataframe tbody tr th:only-of-type {\n",
       "        vertical-align: middle;\n",
       "    }\n",
       "\n",
       "    .dataframe tbody tr th {\n",
       "        vertical-align: top;\n",
       "    }\n",
       "\n",
       "    .dataframe thead th {\n",
       "        text-align: right;\n",
       "    }\n",
       "</style>\n",
       "<table border=\"1\" class=\"dataframe\">\n",
       "  <thead>\n",
       "    <tr style=\"text-align: right;\">\n",
       "      <th></th>\n",
       "      <th>week</th>\n",
       "      <th>sales_method</th>\n",
       "      <th>customer_id</th>\n",
       "      <th>nb_sold</th>\n",
       "      <th>revenue</th>\n",
       "      <th>years_as_customer</th>\n",
       "      <th>nb_site_visits</th>\n",
       "      <th>state</th>\n",
       "    </tr>\n",
       "  </thead>\n",
       "  <tbody>\n",
       "    <tr>\n",
       "      <th>0</th>\n",
       "      <td>2</td>\n",
       "      <td>Email</td>\n",
       "      <td>2e72d641-95ac-497b-bbf8-4861764a7097</td>\n",
       "      <td>10</td>\n",
       "      <td>NaN</td>\n",
       "      <td>0</td>\n",
       "      <td>24</td>\n",
       "      <td>Arizona</td>\n",
       "    </tr>\n",
       "    <tr>\n",
       "      <th>1</th>\n",
       "      <td>6</td>\n",
       "      <td>Email + Call</td>\n",
       "      <td>3998a98d-70f5-44f7-942e-789bb8ad2fe7</td>\n",
       "      <td>15</td>\n",
       "      <td>225.47</td>\n",
       "      <td>1</td>\n",
       "      <td>28</td>\n",
       "      <td>Kansas</td>\n",
       "    </tr>\n",
       "    <tr>\n",
       "      <th>2</th>\n",
       "      <td>5</td>\n",
       "      <td>Call</td>\n",
       "      <td>d1de9884-8059-4065-b10f-86eef57e4a44</td>\n",
       "      <td>11</td>\n",
       "      <td>52.55</td>\n",
       "      <td>6</td>\n",
       "      <td>26</td>\n",
       "      <td>Wisconsin</td>\n",
       "    </tr>\n",
       "    <tr>\n",
       "      <th>3</th>\n",
       "      <td>4</td>\n",
       "      <td>Email</td>\n",
       "      <td>78aa75a4-ffeb-4817-b1d0-2f030783c5d7</td>\n",
       "      <td>11</td>\n",
       "      <td>NaN</td>\n",
       "      <td>3</td>\n",
       "      <td>25</td>\n",
       "      <td>Indiana</td>\n",
       "    </tr>\n",
       "    <tr>\n",
       "      <th>4</th>\n",
       "      <td>3</td>\n",
       "      <td>Email</td>\n",
       "      <td>10e6d446-10a5-42e5-8210-1b5438f70922</td>\n",
       "      <td>9</td>\n",
       "      <td>90.49</td>\n",
       "      <td>0</td>\n",
       "      <td>28</td>\n",
       "      <td>Illinois</td>\n",
       "    </tr>\n",
       "  </tbody>\n",
       "</table>\n",
       "</div>"
      ],
      "text/plain": [
       "   week  sales_method                           customer_id  nb_sold  revenue  \\\n",
       "0     2         Email  2e72d641-95ac-497b-bbf8-4861764a7097       10      NaN   \n",
       "1     6  Email + Call  3998a98d-70f5-44f7-942e-789bb8ad2fe7       15   225.47   \n",
       "2     5          Call  d1de9884-8059-4065-b10f-86eef57e4a44       11    52.55   \n",
       "3     4         Email  78aa75a4-ffeb-4817-b1d0-2f030783c5d7       11      NaN   \n",
       "4     3         Email  10e6d446-10a5-42e5-8210-1b5438f70922        9    90.49   \n",
       "\n",
       "   years_as_customer  nb_site_visits      state  \n",
       "0                  0              24    Arizona  \n",
       "1                  1              28     Kansas  \n",
       "2                  6              26  Wisconsin  \n",
       "3                  3              25    Indiana  \n",
       "4                  0              28   Illinois  "
      ]
     },
     "execution_count": 2,
     "metadata": {},
     "output_type": "execute_result"
    }
   ],
   "source": [
    "# Import Pens and Printers dataset from product_sales.csv file.\n",
    "product_sales = pd.read_csv('datasets/product_sales.csv')\n",
    "\n",
    "# Initial dataset exploration.\n",
    "product_sales.head()"
   ]
  },
  {
   "cell_type": "code",
   "execution_count": 3,
   "id": "1bae31ed-6311-4a26-a548-860178bd779d",
   "metadata": {
    "tags": []
   },
   "outputs": [
    {
     "name": "stdout",
     "output_type": "stream",
     "text": [
      "<class 'pandas.core.frame.DataFrame'>\n",
      "RangeIndex: 15000 entries, 0 to 14999\n",
      "Data columns (total 8 columns):\n",
      " #   Column             Non-Null Count  Dtype  \n",
      "---  ------             --------------  -----  \n",
      " 0   week               15000 non-null  int64  \n",
      " 1   sales_method       15000 non-null  object \n",
      " 2   customer_id        15000 non-null  object \n",
      " 3   nb_sold            15000 non-null  int64  \n",
      " 4   revenue            13926 non-null  float64\n",
      " 5   years_as_customer  15000 non-null  int64  \n",
      " 6   nb_site_visits     15000 non-null  int64  \n",
      " 7   state              15000 non-null  object \n",
      "dtypes: float64(1), int64(4), object(3)\n",
      "memory usage: 937.6+ KB\n"
     ]
    },
    {
     "data": {
      "text/plain": [
       "False"
      ]
     },
     "execution_count": 3,
     "metadata": {},
     "output_type": "execute_result"
    }
   ],
   "source": [
    "# Check the DataFrame structure.\n",
    "product_sales.info()\n",
    "\n",
    "# Check the number of DataFrame elements.\n",
    "product_sales.size\n",
    "\n",
    "# Check for duplicate values.\n",
    "product_sales.duplicated().any()"
   ]
  },
  {
   "cell_type": "markdown",
   "id": "1d18d271-fef6-4a5e-ac47-596fb7a18c6c",
   "metadata": {},
   "source": [
    "On data import, the `product_sales` DataFrame contained 15,000 data points and 8 columns, and a total of 120,000 DataFrame elements.\n",
    "\n",
    "All columns except `revenue` contained 15,000 rows with no missing values. Only the `revenue` column contained 13,926 rows.\n",
    "\n",
    "The DataFrame was examined for duplicate values and none such were identified.\n",
    "\n",
    "In the following steps, each column was inspected individually to validate it against the requirements of the provided data dictionary.\n",
    "\n",
    "| Column Name | Details |\n",
    "| --- | --- | \n",
    "| **`week`** | Week sale was made, counted as weeks since the product launch |\n",
    "| **`sales_method`** | Character, which of the three sales methods was used for that customer |\n",
    "| **`customer_id`** | Character, a unique identifier for the customer |\n",
    "| **`nb_sold`** | Numeric, number of new products sold |\n",
    "| **`revenue`** | Numeric, revenue from the sales, rounded to 2 decimal places |\n",
    "| **`years_as_customer`** | Numeric, number of years the customer has been buying from us (the company was founded in 1984) |\n",
    "| **`nb_site_visits`** | Numeric, number of times the customer has visited our website in the last 6 months |\n",
    "| **`state`** | Character, location of the customer i.e. where orders are shipped |"
   ]
  },
  {
   "cell_type": "markdown",
   "id": "13683e2d-67b9-4929-822d-248de9a0a193",
   "metadata": {},
   "source": [
    "### 1. Column **`week`**\n",
    "\n",
    "The `week` column contains a number indicating a week a sale was made. This number is counted as weeks since the product launch. Even though the week number relates to a time interval, I do not deem it necessary to convert it to a `datetime` format as the current `int` data type is sufficient for the purpose of this data analysis.\n",
    "\n",
    "The column `week`:\n",
    "* contains 15,000 data points\n",
    "* no missing values\n",
    "* has data type `int`\n",
    "* has a range of values from 1 to 6 corresponding to the number of weeks since the product launch"
   ]
  },
  {
   "cell_type": "code",
   "execution_count": 4,
   "id": "c3807e8f-839d-498a-9005-856ea59e5637",
   "metadata": {
    "tags": []
   },
   "outputs": [
    {
     "name": "stdout",
     "output_type": "stream",
     "text": [
      "[2 6 5 4 3 1]\n",
      "6\n",
      "week\n",
      "1    3721\n",
      "2    2491\n",
      "3    2411\n",
      "4    2575\n",
      "5    2574\n",
      "6    1228\n",
      "Name: count, dtype: int64\n"
     ]
    }
   ],
   "source": [
    "# Data validation of the 'week' column.\n",
    "print(product_sales['week'].unique()) \n",
    "print(product_sales['week'].nunique())\n",
    "print(product_sales['week'].value_counts().sort_index())"
   ]
  },
  {
   "cell_type": "markdown",
   "id": "b6cd60b6-8a5e-42ab-b205-1cee7c592099",
   "metadata": {},
   "source": [
    "### 2. Column **`sales_method`**\n",
    "\n",
    "The `sales_method` column contains categorical data about the type of sale strategy used for that customer. \n",
    "\n",
    "The expected three subcategories in this column are character strings corresponding to the three sales methods applied, i.e. `Email`, `Call`, and `Email + Call`.\n",
    "\n",
    "The data inspection revealed that the `sales method` column contained five, instead of three subcategories. The additional two subcategories appeared due to nonconforming labeling: they were typed as \n",
    "* `em + call` (23 entries), and\n",
    "* `email` (10 entries).\n",
    "\n",
    "The mislabeled subcategories were corrected accordingly.\n",
    "\n",
    "After data cleaning and validation, the `sales_method` column:\n",
    "* contains 15,000 data points\n",
    "* no missing values\n",
    "* has data type `object`, i.e. character string\n",
    "* has three subcategories `Email`, `Call`, and `Email + Call` corresponding to the three sales strategies "
   ]
  },
  {
   "cell_type": "code",
   "execution_count": 5,
   "id": "88cd2253-97f8-4834-aa52-3f60dd091477",
   "metadata": {
    "tags": []
   },
   "outputs": [
    {
     "name": "stdout",
     "output_type": "stream",
     "text": [
      "5\n",
      "['Email' 'Email + Call' 'Call' 'em + call' 'email']\n",
      "sales_method\n",
      "Call            4962\n",
      "Email           7456\n",
      "Email + Call    2549\n",
      "em + call         23\n",
      "email             10\n",
      "Name: count, dtype: int64\n"
     ]
    }
   ],
   "source": [
    "# Data validation of 'sales_method' column.\n",
    "print(product_sales['sales_method'].nunique())\n",
    "print(product_sales['sales_method'].unique())\n",
    "print(product_sales['sales_method'].value_counts().sort_index())"
   ]
  },
  {
   "cell_type": "code",
   "execution_count": 6,
   "id": "0253da1a-c7d8-42ca-8335-9d241ef99020",
   "metadata": {
    "tags": []
   },
   "outputs": [
    {
     "name": "stdout",
     "output_type": "stream",
     "text": [
      "sales_method\n",
      "Call            4962\n",
      "Email           7466\n",
      "Email + Call    2572\n",
      "Name: count, dtype: int64\n"
     ]
    }
   ],
   "source": [
    "# Replace mislabeled subcategories.\n",
    "product_sales['sales_method'] = product_sales['sales_method'].str.replace('em + call', 'Email + Call').str.replace('email', 'Email')\n",
    "print(product_sales['sales_method'].value_counts().sort_index())"
   ]
  },
  {
   "cell_type": "markdown",
   "id": "937308de-8474-4837-b9a1-6a300f825706",
   "metadata": {},
   "source": [
    "### 3. Column **`customer_id`**\n",
    "\n",
    "The `customer_id` column contains a unique identifier for each customer.\n",
    "\n",
    "The `customer_id` column:\n",
    "* contains 15,000 data points\n",
    "* no missing values\n",
    "* has data type `object`, i.e. character string\n",
    "* contains unique customer identifiers consisting of 36 characters each"
   ]
  },
  {
   "cell_type": "code",
   "execution_count": 7,
   "id": "68143914-d72f-4a35-bf3d-7e5839a89ac0",
   "metadata": {
    "tags": []
   },
   "outputs": [
    {
     "name": "stdout",
     "output_type": "stream",
     "text": [
      "object\n",
      "customer_id\n",
      "36    15000\n",
      "Name: count, dtype: int64\n"
     ]
    },
    {
     "data": {
      "text/plain": [
       "15000"
      ]
     },
     "execution_count": 7,
     "metadata": {},
     "output_type": "execute_result"
    }
   ],
   "source": [
    "# Data validation of 'customer_id' column.\n",
    "print(product_sales['customer_id'].dtype)\n",
    "customer_id_length = product_sales['customer_id'].apply(len)\n",
    "print(customer_id_length.value_counts())\n",
    "product_sales['customer_id'].duplicated().any()\n",
    "product_sales['customer_id'].nunique()"
   ]
  },
  {
   "cell_type": "markdown",
   "id": "77e2ec52-2449-48ac-8da8-c8afa7021024",
   "metadata": {},
   "source": [
    "### 4. Column **`nb_sold`**\n",
    "\n",
    "The `nb_sold` column contains the number of new products sold.\n",
    "\n",
    "The `nb_sold` column:\n",
    "* contains 15,000 data points\n",
    "* no missing values\n",
    "* has numeric data type `int`\n",
    "* has a range of values from 7 to 16, i.e. the sales orders contained a minimum of 7 items and a maximum of 16 items."
   ]
  },
  {
   "cell_type": "code",
   "execution_count": 8,
   "id": "bff24611-80ae-4145-b3eb-a1b4df0ca974",
   "metadata": {
    "tags": []
   },
   "outputs": [
    {
     "data": {
      "text/plain": [
       "nb_sold\n",
       "7      698\n",
       "8     1941\n",
       "9     3535\n",
       "10    3677\n",
       "11    2439\n",
       "12    1088\n",
       "13     939\n",
       "14      97\n",
       "15     555\n",
       "16      31\n",
       "Name: count, dtype: int64"
      ]
     },
     "execution_count": 8,
     "metadata": {},
     "output_type": "execute_result"
    }
   ],
   "source": [
    "# Data validation of `nb_column` column.\n",
    "product_sales['nb_sold'].value_counts().sort_index()"
   ]
  },
  {
   "cell_type": "markdown",
   "id": "2d09eee0-875d-4fe4-b787-124123d83c97",
   "metadata": {},
   "source": [
    "### 5. Column **`revenue`**\n",
    "\n",
    "The `revenue` column contains revenue sales numbers, rounded to 2 decimals.\n",
    "\n",
    "The `revenue` column is the only variable in the `product_sales` dataset that has missing values, 1074 exactly. \n",
    "\n",
    "A further inquiry is necessary to examine why these values are missing. \n",
    "\n",
    "The `nb_sold` column indicates that all customers made a purchase of at least 7 new product items. This confirms that all data points in the dataset represent completed business transactions but the revenue data for a proportion of them is not available for some reason.\n",
    "\n",
    "It is mandatory to calculate the proportion of the missing values in order to decide which strategy to apply: dropping missing values or data imputation. The threshold for this decision is 5%, and for this dataset, the threshold value is 750 data points. \n",
    "\n",
    "The missing values of 1074 are greater than the threshold of 750, therefore I had to impute the missing data with a summary statistic. \n",
    "\n",
    "I opted for data imputation by sub-category. I examined the correlations between the numeric variables in the dataset to identify possible interdependencies with the `revenue` variable. The only plausible and moderately positive relationship with a correlation coefficient of 0.696 was between `revenue` and `nb_sold`.\n",
    "\n",
    "I calculated the mean revenue based on the number of new items purchased (`nb_sold`). In my opinion. this is a better approximation than just taking a mean revenue of all transactions disregarding the size of the order. Due to a lack of additional information about the purchase orders (e.g. product category, product price per item), I am forced to impute the data in the `revenue` column discriminating it only by order size. \n",
    "\n",
    "I created a dictionary `imputation_means` populating it with the number of new items sold as a key. Then I calculated the mean revenue for each subcategory and stored it as a value in the dictionary.\n",
    "\n",
    "The dictionary for the data imputation has the following structure `imputation_means = {'nb_sold' : 'mean revenue for subcategory'}`.\n",
    "\n",
    "I mapped the missing `revenue` data with the `imputation_means` dictionary, populating the missing values with the mean revenue for the corresponding sub-category based on the number of items ordered.\n",
    "\n",
    "After data validation and imputation, the `revenue` column:\n",
    "* contains 15,000 data points\n",
    "* has no missing values\n",
    "* has numeric data type `float`"
   ]
  },
  {
   "cell_type": "code",
   "execution_count": 9,
   "id": "ecac1500-cf44-479a-8d48-3fc32a0b5001",
   "metadata": {
    "tags": []
   },
   "outputs": [
    {
     "data": {
      "text/html": [
       "<div>\n",
       "<style scoped>\n",
       "    .dataframe tbody tr th:only-of-type {\n",
       "        vertical-align: middle;\n",
       "    }\n",
       "\n",
       "    .dataframe tbody tr th {\n",
       "        vertical-align: top;\n",
       "    }\n",
       "\n",
       "    .dataframe thead th {\n",
       "        text-align: right;\n",
       "    }\n",
       "</style>\n",
       "<table border=\"1\" class=\"dataframe\">\n",
       "  <thead>\n",
       "    <tr style=\"text-align: right;\">\n",
       "      <th></th>\n",
       "      <th>week</th>\n",
       "      <th>nb_sold</th>\n",
       "      <th>revenue</th>\n",
       "      <th>years_as_customer</th>\n",
       "      <th>nb_site_visits</th>\n",
       "    </tr>\n",
       "  </thead>\n",
       "  <tbody>\n",
       "    <tr>\n",
       "      <th>week</th>\n",
       "      <td>1.000000</td>\n",
       "      <td>0.809887</td>\n",
       "      <td>0.356179</td>\n",
       "      <td>-0.082334</td>\n",
       "      <td>0.419038</td>\n",
       "    </tr>\n",
       "    <tr>\n",
       "      <th>nb_sold</th>\n",
       "      <td>0.809887</td>\n",
       "      <td>1.000000</td>\n",
       "      <td>0.696165</td>\n",
       "      <td>-0.099117</td>\n",
       "      <td>0.490718</td>\n",
       "    </tr>\n",
       "    <tr>\n",
       "      <th>revenue</th>\n",
       "      <td>0.356179</td>\n",
       "      <td>0.696165</td>\n",
       "      <td>1.000000</td>\n",
       "      <td>-0.064696</td>\n",
       "      <td>0.323089</td>\n",
       "    </tr>\n",
       "    <tr>\n",
       "      <th>years_as_customer</th>\n",
       "      <td>-0.082334</td>\n",
       "      <td>-0.099117</td>\n",
       "      <td>-0.064696</td>\n",
       "      <td>1.000000</td>\n",
       "      <td>-0.048860</td>\n",
       "    </tr>\n",
       "    <tr>\n",
       "      <th>nb_site_visits</th>\n",
       "      <td>0.419038</td>\n",
       "      <td>0.490718</td>\n",
       "      <td>0.323089</td>\n",
       "      <td>-0.048860</td>\n",
       "      <td>1.000000</td>\n",
       "    </tr>\n",
       "  </tbody>\n",
       "</table>\n",
       "</div>"
      ],
      "text/plain": [
       "                       week   nb_sold   revenue  years_as_customer  \\\n",
       "week               1.000000  0.809887  0.356179          -0.082334   \n",
       "nb_sold            0.809887  1.000000  0.696165          -0.099117   \n",
       "revenue            0.356179  0.696165  1.000000          -0.064696   \n",
       "years_as_customer -0.082334 -0.099117 -0.064696           1.000000   \n",
       "nb_site_visits     0.419038  0.490718  0.323089          -0.048860   \n",
       "\n",
       "                   nb_site_visits  \n",
       "week                     0.419038  \n",
       "nb_sold                  0.490718  \n",
       "revenue                  0.323089  \n",
       "years_as_customer       -0.048860  \n",
       "nb_site_visits           1.000000  "
      ]
     },
     "execution_count": 9,
     "metadata": {},
     "output_type": "execute_result"
    }
   ],
   "source": [
    "# Data validation of the 'revenue' column.\n",
    "# Calculate correlation matrix for numeric variables. \n",
    "product_sales.corr(numeric_only=True)"
   ]
  },
  {
   "cell_type": "code",
   "execution_count": 10,
   "id": "7b1df596-61a0-4743-a275-eebceb2ddd33",
   "metadata": {
    "tags": []
   },
   "outputs": [
    {
     "name": "stdout",
     "output_type": "stream",
     "text": [
      "1074\n",
      "nb_sold\n",
      "7      17\n",
      "8     103\n",
      "9     219\n",
      "10    253\n",
      "11    163\n",
      "12    127\n",
      "13     93\n",
      "14      4\n",
      "15     94\n",
      "16      1\n",
      "Name: count, dtype: int64\n",
      "750.0\n",
      "Impute!\n"
     ]
    }
   ],
   "source": [
    "# Count the number of missing values in the revenue column.\n",
    "missing_values = product_sales['revenue'].isna().sum()\n",
    "print(missing_values)\n",
    "\n",
    "# Calculate 'revenue' missing values per nb_sold.\n",
    "print(product_sales[product_sales['revenue'].isna()]['nb_sold'] \\\n",
    "                                            .value_counts().sort_index())\n",
    "\n",
    "# Calculate threshold for data imputation.\n",
    "threshold = len(product_sales) * 0.05\n",
    "print(threshold)\n",
    "\n",
    "# Compare missing values to threshold.\n",
    "if missing_values > threshold:\n",
    "    print(\"Impute!\")\n",
    "else:\n",
    "    print(\"Drop missing values!\")"
   ]
  },
  {
   "cell_type": "code",
   "execution_count": 11,
   "id": "b818a3e3-80ad-4710-a643-4a1e35efeb5b",
   "metadata": {
    "tags": []
   },
   "outputs": [
    {
     "name": "stdout",
     "output_type": "stream",
     "text": [
      "{7: 35.09, 8: 64.53, 9: 79.17, 10: 91.03, 11: 88.44, 12: 170.16, 13: 125.85, 14: 91.64, 15: 226.83, 16: 234.14}\n"
     ]
    }
   ],
   "source": [
    "# Calculate the means for the data imputation.\n",
    "imputation_means = {}\n",
    "keys = range(7, 17)\n",
    "for k in keys:\n",
    "    imputation_means[k] = round(np.mean(product_sales[product_sales['nb_sold'] == k]['revenue'].dropna()), 2)\n",
    "print(imputation_means)"
   ]
  },
  {
   "cell_type": "code",
   "execution_count": 12,
   "id": "627c59c5-d850-4f81-83d2-e88df9abc14f",
   "metadata": {
    "tags": []
   },
   "outputs": [
    {
     "data": {
      "text/plain": [
       "count    15000.000000\n",
       "mean        95.026851\n",
       "std         47.632151\n",
       "min         32.540000\n",
       "25%         53.007500\n",
       "50%         89.660000\n",
       "75%        107.547500\n",
       "max        238.320000\n",
       "Name: revenue, dtype: float64"
      ]
     },
     "execution_count": 12,
     "metadata": {},
     "output_type": "execute_result"
    }
   ],
   "source": [
    "# Data imputation in the 'revenue' column by sub-category.\n",
    "product_sales['revenue'] = product_sales['revenue'].fillna(product_sales['nb_sold'].map(imputation_means))\n",
    "product_sales['revenue'].isna().sum()\n",
    "product_sales['revenue'].describe()"
   ]
  },
  {
   "cell_type": "markdown",
   "id": "6ca2953f-3eff-4299-8920-c5a3a47b9580",
   "metadata": {},
   "source": [
    "### 6. Column **`years_as_customer`**\n",
    "\n",
    "The `years_as_customer` column contains a number indicating the length of the business relationship with Pens and Printers in years.\n",
    "\n",
    "As the company was founded in 1984, the values in this column must be in the range between 0 and 39.\n",
    "\n",
    "The data inspection here returned two values beyond the variable constraint — two customers had business relations with the company for 47 and 63 years. I consider these to be typing errors at data entry and I have corrected them to 37 and 36 respectively. The `years_as_customer` variable is not of vital importance for this analysis, but I do not want to drop these data points and lose their additional and more relevant data.\n",
    "\n",
    "After data validation and data correction, the `years_as_customer` column:\n",
    "* has 15,000 data points\n",
    "* no missing values\n",
    "* has numeric data type `int`\n",
    "* has a value range between 0 and 39"
   ]
  },
  {
   "cell_type": "code",
   "execution_count": 13,
   "id": "2a20ee88-32e2-4cce-9c5b-63e56f727f3e",
   "metadata": {
    "tags": []
   },
   "outputs": [
    {
     "data": {
      "text/plain": [
       "min     0\n",
       "max    39\n",
       "Name: years_as_customer, dtype: int64"
      ]
     },
     "execution_count": 13,
     "metadata": {},
     "output_type": "execute_result"
    }
   ],
   "source": [
    "# Data validation of the 'years_as_customer' column.\n",
    "product_sales['years_as_customer'].value_counts()\n",
    "product_sales[product_sales['years_as_customer'].isin([47,63])]\n",
    "product_sales['years_as_customer'] = product_sales['years_as_customer'].replace(47, 37).replace(63, 36)\n",
    "product_sales['years_as_customer'].value_counts().sort_index()\n",
    "product_sales['years_as_customer'].agg(['min', 'max'])"
   ]
  },
  {
   "cell_type": "markdown",
   "id": "97a09e59-a4c8-4591-9273-5e7681feeb82",
   "metadata": {},
   "source": [
    "### 7. Column **`nb_site_visits`**\n",
    "\n",
    "The `nb_site_visits` column contains the number of times the customer has visited Pens and Printers' website in the last six months.\n",
    "\n",
    "The `nb_site_visits`:\n",
    "* contains 15,000 data points\n",
    "* no missing values\n",
    "* has a numeric data type `int`\n",
    "* has a range of values between 12 and 41"
   ]
  },
  {
   "cell_type": "code",
   "execution_count": 14,
   "id": "4dd04a86-36fc-480b-a9b0-fa8008bf0a08",
   "metadata": {
    "tags": []
   },
   "outputs": [
    {
     "data": {
      "text/plain": [
       "nb_site_visits\n",
       "12       1\n",
       "13       4\n",
       "14       7\n",
       "15      31\n",
       "16      80\n",
       "17     113\n",
       "18     217\n",
       "19     426\n",
       "20     600\n",
       "21     908\n",
       "22    1200\n",
       "23    1478\n",
       "24    1601\n",
       "25    1688\n",
       "26    1645\n",
       "27    1440\n",
       "28    1175\n",
       "29     893\n",
       "30     654\n",
       "31     371\n",
       "32     250\n",
       "33     114\n",
       "34      51\n",
       "35      33\n",
       "36      14\n",
       "37       5\n",
       "41       1\n",
       "Name: count, dtype: int64"
      ]
     },
     "execution_count": 14,
     "metadata": {},
     "output_type": "execute_result"
    }
   ],
   "source": [
    "# Data validation of the `nb_site_visits` column.\n",
    "product_sales['nb_site_visits'].value_counts().sort_index()"
   ]
  },
  {
   "cell_type": "markdown",
   "id": "fe471044-35af-4046-b145-d12bb62a6431",
   "metadata": {},
   "source": [
    "### 8. Column **`state`**\n",
    "\n",
    "The `state` column contains the location of the order shipment.\n",
    "\n",
    "The `state` column:\n",
    "* contains 15,000 data points\n",
    "* no missing values\n",
    "* has data type `object`, i.e. character string\n",
    "* contains 50 unique string names for every US state"
   ]
  },
  {
   "cell_type": "code",
   "execution_count": 15,
   "id": "3e1d0c0f-1f6e-4dcc-9b07-972fc1c91e3b",
   "metadata": {
    "tags": []
   },
   "outputs": [
    {
     "data": {
      "text/plain": [
       "state\n",
       "Alabama            214\n",
       "Alaska              40\n",
       "Arizona            321\n",
       "Arkansas           132\n",
       "California        1872\n",
       "Colorado           230\n",
       "Connecticut        179\n",
       "Delaware            34\n",
       "Florida            904\n",
       "Georgia            489\n",
       "Hawaii              72\n",
       "Idaho               62\n",
       "Illinois           617\n",
       "Indiana            354\n",
       "Iowa               165\n",
       "Kansas             142\n",
       "Kentucky           213\n",
       "Louisiana          230\n",
       "Maine               63\n",
       "Maryland           263\n",
       "Massachusetts      294\n",
       "Michigan           498\n",
       "Minnesota          245\n",
       "Mississippi        139\n",
       "Missouri           311\n",
       "Montana             45\n",
       "Nebraska            91\n",
       "Nevada             102\n",
       "New Hampshire       53\n",
       "New Jersey         434\n",
       "New Mexico          84\n",
       "New York           965\n",
       "North Carolina     459\n",
       "North Dakota        30\n",
       "Ohio               566\n",
       "Oklahoma           196\n",
       "Oregon             229\n",
       "Pennsylvania       598\n",
       "Rhode Island        43\n",
       "South Carolina     224\n",
       "South Dakota        41\n",
       "Tennessee          340\n",
       "Texas             1187\n",
       "Utah               124\n",
       "Vermont             28\n",
       "Virginia           372\n",
       "Washington         335\n",
       "West Virginia       85\n",
       "Wisconsin          253\n",
       "Wyoming             33\n",
       "Name: count, dtype: int64"
      ]
     },
     "execution_count": 15,
     "metadata": {},
     "output_type": "execute_result"
    }
   ],
   "source": [
    "# Data validation of the 'state' column.\n",
    "product_sales['state'].nunique()\n",
    "product_sales['state'].value_counts().sort_index()"
   ]
  },
  {
   "cell_type": "markdown",
   "id": "4f4c610b-dc4b-49b0-a266-796a68790ead",
   "metadata": {},
   "source": [
    "## 🔍 Exploratory Data Analysis\n",
    "\n",
    "After data inspection, cleaning, and validation, I proceeded to the exploratory data analysis to find answers to the questions of the Pens and Printers sales representative. \n",
    "\n",
    "The main focus of this analysis is the effectiveness of the new sales methods applied at the launch of the new product line by Pens and Printers. \n",
    "\n",
    "The company tested new sales strategies relying on different communication channels, in particular email, phone calls, and a combination of both.\n",
    "\n",
    "The dataset provided contains data only about the new products sold since the campaign launch six weeks ago, and it is intended to afford an initial overview of the business development and the effectiveness of the new sales tactics. "
   ]
  },
  {
   "cell_type": "markdown",
   "id": "464ccaae-9861-49d4-86e1-055e5c2b0640",
   "metadata": {},
   "source": [
    "### **_How many customers were there for each sales approach❓_**\n",
    "\n",
    "The following table summarizes the data about the number of customers per sales approach."
   ]
  },
  {
   "cell_type": "code",
   "execution_count": 16,
   "id": "a0412807-0bb4-49db-902f-ff3368796b6d",
   "metadata": {
    "tags": []
   },
   "outputs": [
    {
     "data": {
      "text/html": [
       "<div>\n",
       "<style scoped>\n",
       "    .dataframe tbody tr th:only-of-type {\n",
       "        vertical-align: middle;\n",
       "    }\n",
       "\n",
       "    .dataframe tbody tr th {\n",
       "        vertical-align: top;\n",
       "    }\n",
       "\n",
       "    .dataframe thead th {\n",
       "        text-align: right;\n",
       "    }\n",
       "</style>\n",
       "<table border=\"1\" class=\"dataframe\">\n",
       "  <thead>\n",
       "    <tr style=\"text-align: right;\">\n",
       "      <th></th>\n",
       "      <th>number_of_customers</th>\n",
       "      <th>percentage_of_customers</th>\n",
       "    </tr>\n",
       "    <tr>\n",
       "      <th>sales_method</th>\n",
       "      <th></th>\n",
       "      <th></th>\n",
       "    </tr>\n",
       "  </thead>\n",
       "  <tbody>\n",
       "    <tr>\n",
       "      <th>Email</th>\n",
       "      <td>7466</td>\n",
       "      <td>0.498</td>\n",
       "    </tr>\n",
       "    <tr>\n",
       "      <th>Call</th>\n",
       "      <td>4962</td>\n",
       "      <td>0.331</td>\n",
       "    </tr>\n",
       "    <tr>\n",
       "      <th>Email + Call</th>\n",
       "      <td>2572</td>\n",
       "      <td>0.171</td>\n",
       "    </tr>\n",
       "  </tbody>\n",
       "</table>\n",
       "</div>"
      ],
      "text/plain": [
       "              number_of_customers  percentage_of_customers\n",
       "sales_method                                              \n",
       "Email                        7466                    0.498\n",
       "Call                         4962                    0.331\n",
       "Email + Call                 2572                    0.171"
      ]
     },
     "execution_count": 16,
     "metadata": {},
     "output_type": "execute_result"
    }
   ],
   "source": [
    "# How many customers were there for each approach.\n",
    "product_sales.groupby('sales_method') \\\n",
    "             .agg(number_of_customers=('customer_id', 'count')) \\\n",
    "             .sort_values('number_of_customers', ascending=False) \\\n",
    "             .assign(percentage_of_customers = lambda x: round(x.number_of_customers / sum(x.number_of_customers), 3))"
   ]
  },
  {
   "cell_type": "markdown",
   "id": "c7db3af8-ca0c-449d-80d8-c8d738be0b9d",
   "metadata": {},
   "source": [
    "This chart visualizes the customer segmentation by applied sales method."
   ]
  },
  {
   "cell_type": "code",
   "execution_count": 17,
   "id": "3567139a-4e6e-481a-bcc5-b716852de497",
   "metadata": {
    "tags": []
   },
   "outputs": [
    {
     "data": {
      "image/png": "[encoded data removed]",
      "text/plain": [
       "<Figure size 432x288 with 1 Axes>"
      ]
     },
     "metadata": {
      "needs_background": "light"
     },
     "output_type": "display_data"
    }
   ],
   "source": [
    "# Create a count plot visualizing the segmentation of customers \n",
    "# by sales method they were targeted.\n",
    "sns.set_style('darkgrid')\n",
    "\n",
    "sns.countplot(data=product_sales,\n",
    "              x='sales_method',\n",
    "              order=['Email', 'Call', 'Email + Call'])\n",
    "plt.title(\"Number of Customers per Sales Approach\", \n",
    "          y=1.03,\n",
    "          fontsize=15)\n",
    "plt.xlabel(\"Sales Method\",\n",
    "           labelpad=10)\n",
    "plt.ylabel(\"Number of Customers\", \n",
    "           labelpad=10)\n",
    "plt.show()"
   ]
  },
  {
   "cell_type": "markdown",
   "id": "6294916c-aed5-48ba-b3ec-2222571e516a",
   "metadata": {},
   "source": [
    "As the table summary and the count plot indicate, almost half of the customers were approached by email, one-third by phone call, and the rest by email and phone call.\n",
    "\n",
    "The data indicate that the sales methods were applied to customer segments of unequal sample sizes. This disproportionate customer segmentation is not optimal for comparison of the effectiveness between the different sales methods.\n",
    "\n",
    "The dataset and its accompanying documentation provide no additional information or clues about the methodology how and why these customer segments were selected. \n",
    "\n",
    "From the data available I could only conclude that possibly convenience sampling was applied for the customer segmentation based on the available customer contact details (email addresses and/or phone numbers).\n",
    "\n",
    "The customers approached by e-mail (`Email` and `Email + Call`) amount to nearly 67% and appear to be overrepresented in this test, which could distort the results.\n",
    "\n",
    "The lack of reliable information about the methodology of this study does not allow me to assume that these samples were taken randomly and independently, which does not fulfill the requirements for conducting parametric statistical hypothesis tests."
   ]
  },
  {
   "cell_type": "markdown",
   "id": "140f429e-0b5e-4bf6-8115-0a07a51fa503",
   "metadata": {},
   "source": [
    "### **_What does the spread of the revenue look like overall? And for each method❓_**\n",
    "\n",
    "The revenue is the key performance indicator (KPI) that will serve as a metric to gauge the success of the new sales methods. \n",
    "\n",
    "The overall distribution of revenue is visualized in the following histogram."
   ]
  },
  {
   "cell_type": "code",
   "execution_count": 18,
   "id": "e28b0f15-abe6-4ff7-b127-c8998d9bf99f",
   "metadata": {
    "tags": []
   },
   "outputs": [
    {
     "data": {
      "image/png": "[encoded data removed]",
      "text/plain": [
       "<Figure size 432x288 with 1 Axes>"
      ]
     },
     "metadata": {
      "needs_background": "light"
     },
     "output_type": "display_data"
    }
   ],
   "source": [
    "# Visualize the overall revenue distribution in a histogram.\n",
    "sns.histplot(data=product_sales,\n",
    "             x='revenue',\n",
    "             bins=15\n",
    "            )\n",
    "plt.title(\"Frequency Distribution of Revenue\",\n",
    "          y=1.03,\n",
    "          fontsize=15)\n",
    "plt.axvline(x=product_sales.revenue.median(), \n",
    "            color='green', \n",
    "            ls='--', \n",
    "            lw=1.75, \n",
    "            label='median')\n",
    "plt.axvline(x=product_sales.revenue.mean(), \n",
    "            color='darkorange', \n",
    "            label='mean')\n",
    "plt.xlabel(\"Revenue (USD)\", labelpad=10)\n",
    "plt.ylabel(\"Frequency\", labelpad=10)\n",
    "plt.legend()\n",
    "plt.show()"
   ]
  },
  {
   "cell_type": "markdown",
   "id": "4f135313-d34a-4131-8b53-f70b331b50f5",
   "metadata": {},
   "source": [
    "The general shape of the overall revenue distribution is very uneven, asymmetric and does not follow the bell shape of a normal distribution. The majority of the data points are concentrated in the left part of the histogram, approximately below $110. The histogram peaks at multiple values indicating that the revenue might be influenced by underlying factors like different product categories or varying order volumes.\n",
    "\n",
    "The revenue histogram is right-skewed by multiple outliers in the higher revenue segment. The mean revenue is more sensitive to extreme values and it is pulled by the outliers to the right of the median."
   ]
  },
  {
   "cell_type": "code",
   "execution_count": 19,
   "id": "a9746cc3-4d11-4195-9511-d1505070e490",
   "metadata": {
    "tags": []
   },
   "outputs": [
    {
     "data": {
      "text/plain": [
       "revenue_mean      95.026851\n",
       "revenue_median    89.660000\n",
       "Name: revenue, dtype: float64"
      ]
     },
     "execution_count": 19,
     "metadata": {},
     "output_type": "execute_result"
    }
   ],
   "source": [
    "# Compare mean and median of 'revenue'.\n",
    "product_sales['revenue'].agg(revenue_mean = 'mean',\n",
    "                             revenue_median = 'median')"
   ]
  },
  {
   "cell_type": "markdown",
   "id": "8ea6c57b-c913-4682-94af-44b45f2d1412",
   "metadata": {},
   "source": [
    "To find out the underlying factors causing the asymmetric shape of the revenue distribution, I plotted several multivariate data visualizations. One of the most distinctive results was achieved by plotting the revenue distribution with a histogram using `sales_method` as a semantic variable."
   ]
  },
  {
   "cell_type": "code",
   "execution_count": 20,
   "id": "d035bed6-2060-467d-81e0-c6e6bc8001ea",
   "metadata": {
    "tags": []
   },
   "outputs": [
    {
     "data": {
      "image/png": "[encoded data removed]",
      "text/plain": [
       "<Figure size 432x288 with 1 Axes>"
      ]
     },
     "metadata": {
      "needs_background": "light"
     },
     "output_type": "display_data"
    }
   ],
   "source": [
    "# Plot the overall revenue distribution with 'sales_method' as semantic variable\n",
    "sns.histplot(data=product_sales,\n",
    "             x='revenue',\n",
    "             bins=15,\n",
    "             hue='sales_method', \n",
    "             hue_order=['Email + Call', 'Email', 'Call'],\n",
    "            )\n",
    "plt.title(\"Frequency Distribution of Revenue\\n by Sales Method\",\n",
    "          y=1.03,\n",
    "          fontsize=15)\n",
    "plt.xlabel(\"Revenue (USD)\", labelpad=10)\n",
    "plt.ylabel(\"Frequency\", labelpad=10)\n",
    "plt.show()"
   ]
  },
  {
   "cell_type": "markdown",
   "id": "8aafd4d7-2796-46c5-8465-d44f140302bf",
   "metadata": {},
   "source": [
    "The above histogram visualizes clearly that the asymmetric shape of the overall revenue distribution is defined by the three competing sales strategies. Different sales tactics clearly dominate separate parts of the revenue distribution with partial overlap. The fact that each sales method was disproportionately applied to uneven samples from the customer population contributes additionally to the distorted shape of the revenue distribution.\n",
    "\n",
    "The spread of the revenue by sales method is visualized in the following violin plot."
   ]
  },
  {
   "cell_type": "code",
   "execution_count": 21,
   "id": "6d9a4ddb-c877-4a9f-9c2a-352aca5cee88",
   "metadata": {
    "tags": []
   },
   "outputs": [
    {
     "data": {
      "image/png": "[encoded data removed]",
      "text/plain": [
       "<Figure size 432x288 with 1 Axes>"
      ]
     },
     "metadata": {
      "needs_background": "light"
     },
     "output_type": "display_data"
    }
   ],
   "source": [
    "# Visualize the spread of the revenue by sales method with a violin plot.\n",
    "sns.violinplot(data=product_sales,\n",
    "               x='revenue',\n",
    "               y='sales_method',\n",
    "               order=['Email + Call', 'Email', 'Call'],\n",
    "               width=1,\n",
    "               scale='width',\n",
    "               scale_hue=False\n",
    "               )\n",
    "plt.title(\"Spread of Revenue by Sales Method\",\n",
    "          fontsize=15,\n",
    "          y=1.02)\n",
    "plt.xlabel(\"Revenue (USD)\", labelpad=10)\n",
    "plt.ylabel(\"Sales Method\", labelpad=10)\n",
    "plt.show()"
   ]
  },
  {
   "cell_type": "markdown",
   "id": "891793a8-a4fa-41de-b1e2-28b54407492d",
   "metadata": {},
   "source": [
    "Each sales method has a wide spread of revenue which is extended by the outliers present in each category and causes them to overlap. It is visible from this plot that every sales tactic dominates within a particular revenue category. To further examine the central tendency between the individual sales methods, I opted to hide the outliers and visualize the revenue distribution in the following box plot. "
   ]
  },
  {
   "cell_type": "code",
   "execution_count": 22,
   "id": "df3a165e-4565-4e3e-8f18-cf76b5c4accd",
   "metadata": {
    "tags": []
   },
   "outputs": [
    {
     "data": {
      "image/png": "[encoded data removed]",
      "text/plain": [
       "<Figure size 432x288 with 1 Axes>"
      ]
     },
     "metadata": {
      "needs_background": "light"
     },
     "output_type": "display_data"
    }
   ],
   "source": [
    "# Visualize the frequency distribution with a box plot.\n",
    "sns.boxplot(data=product_sales,\n",
    "            x='revenue',\n",
    "            y='sales_method',\n",
    "            sym=\"\",\n",
    "            order=['Email + Call', 'Email', 'Call'],\n",
    "           )\n",
    "plt.title(\"Revenue Distribution by Sales Method\",\n",
    "          y=1.03,\n",
    "          fontsize=15)\n",
    "plt.xlabel(\"Revenue (USD)\",\n",
    "           labelpad=10)\n",
    "plt.ylabel(\"Sales Method\",\n",
    "           labelpad=10)\n",
    "plt.show()"
   ]
  },
  {
   "cell_type": "markdown",
   "id": "dc02411d-4c30-4f14-997a-5f7c6d149605",
   "metadata": {},
   "source": [
    "Without outliers, the individual sales strategies have minimal overlaps. The interquartile ranges and the measures of center of each sales method are indicative that there is a significant difference between the sales tactics and that each sales method dominates within a separate revenue category. "
   ]
  },
  {
   "cell_type": "markdown",
   "id": "5affcb1a-f99e-4de8-b5d4-5292434ab9e4",
   "metadata": {},
   "source": [
    "### **_Was there any difference in revenue over time for each of the methods❓_**"
   ]
  },
  {
   "cell_type": "code",
   "execution_count": 23,
   "id": "1913df4f-e52f-4991-a16b-9cef32536a44",
   "metadata": {
    "tags": []
   },
   "outputs": [
    {
     "data": {
      "image/png": "[encoded data removed]",
      "text/plain": [
       "<Figure size 432x288 with 1 Axes>"
      ]
     },
     "metadata": {
      "needs_background": "light"
     },
     "output_type": "display_data"
    }
   ],
   "source": [
    "# Revenue distribution by weeks.\n",
    "sns.lineplot(data=product_sales,\n",
    "             x='week',\n",
    "             y='revenue',\n",
    "             hue='sales_method',\n",
    "             hue_order=['Email + Call', 'Email', 'Call'],\n",
    "             marker='o',\n",
    "             )\n",
    "plt.title(\"Revenue Growth by Sales Method\\n(first 6 weeks since promotion launch)\",\n",
    "          y=1.03, \n",
    "          fontsize=15)\n",
    "plt.xlabel(\"\")\n",
    "plt.ylabel(\"Revenue (USD)\", labelpad=15)\n",
    "plt.xticks([1, 2, 3, 4, 5, 6], ['$1^{st}$\\nweek',\n",
    "                                '$2^{nd}$\\nweek', \n",
    "                                '$3^{rd}$\\nweek', \n",
    "                                '$4^{th}$\\nweek', \n",
    "                                '$5^{th}$\\nweek', \n",
    "                                '$6^{th}$\\nweek'])\n",
    "plt.show()"
   ]
  },
  {
   "cell_type": "markdown",
   "id": "e287befa-346f-4f8e-8387-09ecd7bf8a0a",
   "metadata": {
    "tags": []
   },
   "source": [
    "The line plot above visualizes the revenue generation during the six weeks since the promotion launch. All three sales strategies seem to generate a gradual increase in revenue over time. There is almost a parallel trending of sales methods `Call` and `Email` but in different revenue ranges. The combined sales strategy `Email + Call` displays the highest ascending slope, with the widest revenue spread. Each sales strategy revenue growth shows an ascending trend but the combined method appears to yield the biggest revenue with the highest increase and in a higher revenue range."
   ]
  },
  {
   "cell_type": "code",
   "execution_count": 24,
   "id": "f550c094-976e-4fba-8174-a606fd94fa70",
   "metadata": {
    "tags": []
   },
   "outputs": [
    {
     "data": {
      "image/png": "[encoded data removed]",
      "text/plain": [
       "<Figure size 449.75x360 with 1 Axes>"
      ]
     },
     "metadata": {
      "needs_background": "light"
     },
     "output_type": "display_data"
    }
   ],
   "source": [
    "# Visualize revenue growth over time with linear regression trendline.\n",
    "sns.lmplot(data=product_sales,\n",
    "           x='week',\n",
    "           y='revenue',\n",
    "           hue='sales_method',\n",
    "           hue_order=['Email + Call', 'Email', 'Call'])\n",
    "plt.xticks([1, 2, 3, 4, 5, 6], ['$1^{st}$\\nweek',\n",
    "                                '$2^{nd}$\\nweek', \n",
    "                                '$3^{rd}$\\nweek', \n",
    "                                '$4^{th}$\\nweek', \n",
    "                                '$5^{th}$\\nweek', \n",
    "                                '$6^{th}$\\nweek'])\n",
    "plt.title(\"Linear Regression of Revenue Growth \\nper Sales Method\",\n",
    "          y=1.03, \n",
    "          fontsize=15)\n",
    "plt.xlabel(\"\")\n",
    "plt.ylabel(\"Revenue (USD)\")\n",
    "plt.show()"
   ]
  },
  {
   "cell_type": "code",
   "execution_count": 25,
   "id": "dbd51dbb-d87c-42c0-a83f-74b7ba5874c2",
   "metadata": {
    "tags": []
   },
   "outputs": [
    {
     "name": "stdout",
     "output_type": "stream",
     "text": [
      "LinregressResult(slope=5.462615288269871, intercept=30.144380263771797, rvalue=0.741374922819101, pvalue=0.0, stderr=0.07021070685971038, intercept_stderr=0.2644683054632196)\n",
      "LinregressResult(slope=6.030197032134784, intercept=81.44465817166184, rvalue=0.7436598013272415, pvalue=0.0, stderr=0.0627495501852309, intercept_stderr=0.1807916613498633)\n",
      "LinregressResult(slope=20.226153543596716, intercept=93.4946373195099, rvalue=0.8575459098945243, pvalue=0.0, stderr=0.23932970084008875, intercept_stderr=1.0839811763380687)\n"
     ]
    }
   ],
   "source": [
    "# Calculate the linear regression for 'Call' sales method.\n",
    "lreg_call = linregress(product_sales[product_sales['sales_method'] == 'Call']['week'],\n",
    "                 product_sales[product_sales['sales_method'] == 'Call']['revenue'])\n",
    "print(lreg_call)\n",
    "\n",
    "# Calculate the linear regression for 'Email' sales method\n",
    "lreg_email = linregress(product_sales[product_sales['sales_method'] == 'Email']['week'],\n",
    "                 product_sales[product_sales['sales_method'] == 'Email']['revenue'])\n",
    "print(lreg_email)\n",
    "\n",
    "lreg_e_c = linregress(product_sales[product_sales['sales_method'] == 'Email + Call']['week'],\n",
    "                 product_sales[product_sales['sales_method'] == 'Email + Call']['revenue'])\n",
    "print(lreg_e_c)"
   ]
  },
  {
   "cell_type": "markdown",
   "id": "f73c97f1-7469-4aeb-b3eb-8f9c1e2c8623",
   "metadata": {
    "tags": []
   },
   "source": [
    "To further examine the revenue growth over time, I visualized the data with a linear regression trendline on the plot above. \n",
    "\n",
    "In the next step, I calculated the slopes of each regression line by sales method. The numbers revealed that the slopes of `Call` and `Email`  are about 5.46 and 6.03 respectively, and the combined sales method's slope amounts to around 20.22, i.e. over three times higher revenue growth compared to the other sales strategies.\n",
    "\n",
    "If we juxtapose the revenue per sales method and week in a heatmap, it becomes evident by the annotated numbers that there is definitely a trend that each sales strategy is most successful within a particular revenue range.\n",
    "\n",
    "The `Call` sales method dominates revenue generation of up to around 70 USD. The `Email` sales strategy has a revenue bandwidth between around 80 USD and 130 USD. The revenue of the mixed sales tactic starts at around 120 USD upwards.\n",
    "\n",
    "It appears that each sales tactic is most successful within particular price categories and product ranges."
   ]
  },
  {
   "cell_type": "code",
   "execution_count": 26,
   "id": "773d12ed-510d-4036-a2bf-f368ddf896f2",
   "metadata": {
    "tags": []
   },
   "outputs": [
    {
     "data": {
      "image/png": "[encoded data removed]",
      "text/plain": [
       "<Figure size 432x288 with 2 Axes>"
      ]
     },
     "metadata": {
      "needs_background": "light"
     },
     "output_type": "display_data"
    }
   ],
   "source": [
    "# Create a pivot table.\n",
    "pivot_table = product_sales.pivot_table(values='revenue',\n",
    "                                        index='sales_method',\n",
    "                                        columns='week')\n",
    "\n",
    "# Create a heatmap of revenue growth by week.\n",
    "sns.heatmap(data=pivot_table.sort_values('sales_method', ascending=False),\n",
    "            annot=True,\n",
    "            fmt='.2f',\n",
    "            xticklabels=['$1^{st}$\\nweek',\n",
    "                         '$2^{nd}$\\nweek', \n",
    "                         '$3^{rd}$\\nweek', \n",
    "                         '$4^{th}$\\nweek', \n",
    "                         '$5^{th}$\\nweek', \n",
    "                         '$6^{th}$\\nweek'],\n",
    "           )\n",
    "plt.yticks(rotation=0)\n",
    "plt.title(\"Revenue per Sales Method and Week\",\n",
    "          y=1.03,\n",
    "          fontsize=15)\n",
    "plt.xlabel('')\n",
    "plt.ylabel(\"Sales Method\")\n",
    "plt.show()"
   ]
  },
  {
   "cell_type": "markdown",
   "id": "ee77a6b3-8393-4f29-aa92-fd60a68fc038",
   "metadata": {},
   "source": [
    "To further explore the revenue generation for each sales strategy from a different angle, I analyzed the data about the number of orders and the number of items ordered over time, visualized in the following pair plots."
   ]
  },
  {
   "cell_type": "code",
   "execution_count": 27,
   "id": "48eec023-e5a5-4a06-95a5-ea042610b755",
   "metadata": {
    "tags": []
   },
   "outputs": [
    {
     "data": {
      "image/png": "[encoded data removed]",
      "text/plain": [
       "<Figure size 1080x360 with 3 Axes>"
      ]
     },
     "metadata": {
      "needs_background": "light"
     },
     "output_type": "display_data"
    },
    {
     "data": {
      "image/png": "[encoded data removed]",
      "text/plain": [
       "<Figure size 1080x360 with 3 Axes>"
      ]
     },
     "metadata": {
      "needs_background": "light"
     },
     "output_type": "display_data"
    },
    {
     "data": {
      "image/png": "[encoded data removed]",
      "text/plain": [
       "<Figure size 1080x360 with 3 Axes>"
      ]
     },
     "metadata": {
      "needs_background": "light"
     },
     "output_type": "display_data"
    }
   ],
   "source": [
    "# Visualize revenue over time per sales method.\n",
    "g1 = sns.relplot(data=product_sales,\n",
    "                 kind='line',\n",
    "                 x='week',\n",
    "                 y='revenue',\n",
    "                 col='sales_method',\n",
    "                 col_order=['Call', 'Email', 'Email + Call'],\n",
    "                 hue='sales_method',\n",
    "                 hue_order=['Email + Call', 'Email', 'Call'],\n",
    "                 legend=False\n",
    "                )\n",
    "g1.fig.suptitle(\"Revenue by Sales Method per Week\",\n",
    "                 fontsize=15,\n",
    "                 y=1.03)\n",
    "g1.set_titles(\"{col_name}\")\n",
    "g1.set(xlabel=\"Week\",\n",
    "\t   ylabel=\"Revenue (USD)\")\n",
    "\n",
    "# Visualize number of orders per sales method.\n",
    "g2 = sns.catplot(data=product_sales,\n",
    "                 kind='count',\n",
    "                 x='week',\n",
    "                 col='sales_method',\n",
    "                 col_order=['Call', 'Email', 'Email + Call']\n",
    "                )\n",
    "g2.fig.suptitle(\"Number of Sales Orders per Week\",\n",
    "                 fontsize=15,\n",
    "                 y=1.03)\n",
    "g2.set_titles(\"{col_name}\")\n",
    "g2.set(xlabel=\"Week\",\n",
    "\t   ylabel=\"Number of Orders\")\n",
    "\n",
    "# Visualize number of items ordered per week.\n",
    "g3 = sns.catplot(data=product_sales,\n",
    "                 x='week',\n",
    "                 y='nb_sold',\n",
    "                 kind='violin',\n",
    "                 col='sales_method',\n",
    "                 col_order=['Call', 'Email', 'Email + Call'],\n",
    "                 # estimator='mean',\n",
    "                 # scale='width',\n",
    "                )\n",
    "g3.fig.suptitle(\"Number of Items Ordered per Week\",\n",
    "                 fontsize=15,\n",
    "                 y=1.03)\n",
    "g3.set_titles(\"{col_name}\")\n",
    "g3.set(xlabel=\"Week\",\n",
    "\t   ylabel=\"Number of Items Ordered\")\n",
    "plt.show()"
   ]
  },
  {
   "cell_type": "markdown",
   "id": "03664390-5730-4ce9-9efd-5fdf323248b5",
   "metadata": {},
   "source": [
    "The revenue growth pace was already discussed in the paragraphs above. \n",
    "\n",
    "The numbers for sales orders per week show different trends. `Call` and `Email + Call` orders display similar development with gradual growth and then a decline in the sixth week. `Email` orders appear to be plummeting but on the other hand, the revenue generation has a steadily growing pace. If we take a look at the number of items ordered per week, we see that each sales strategy attributes to an increase in the number of items per order.  "
   ]
  },
  {
   "cell_type": "markdown",
   "id": "931663a7-f2ca-4763-9b45-cb54ceb028c6",
   "metadata": {},
   "source": [
    "### **_Which sales method should Pens and Printers continue to use❓_**"
   ]
  },
  {
   "cell_type": "markdown",
   "id": "89dd4de1-cac9-493d-aef7-53b0ca636e1d",
   "metadata": {
    "tags": []
   },
   "source": [
    "Understandably, Pens and Printers would possibly continue to use all three sales methods. The emphasis here should be put on _how_ and _where_ these sales strategies should be applied.\n",
    "\n",
    "The data analysis revealed that there might be an underlying bias in the dataset, which cannot be fully explained by the information provided here. It is apparent that the success of each individual sales tactic is heavily influenced by the study design, by the customer segmentation, by the product categories, and the price ranges included in the promotion launch. \n",
    "\n",
    "Based on the insights from the data analysis I would recommend that Pens and Printers should focus its marketing strategy predominantly around the `Email` and `Email + Call` sales methods. These sales tactics have a higher growth pace in more expensive product segments and generate a greater proportion of the company's revenue (ca.83%). "
   ]
  },
  {
   "cell_type": "code",
   "execution_count": 28,
   "id": "b2ccc8f9-c938-4560-b682-aff99acb8961",
   "metadata": {
    "tags": []
   },
   "outputs": [
    {
     "data": {
      "text/html": [
       "<div>\n",
       "<style scoped>\n",
       "    .dataframe tbody tr th:only-of-type {\n",
       "        vertical-align: middle;\n",
       "    }\n",
       "\n",
       "    .dataframe tbody tr th {\n",
       "        vertical-align: top;\n",
       "    }\n",
       "\n",
       "    .dataframe thead th {\n",
       "        text-align: right;\n",
       "    }\n",
       "</style>\n",
       "<table border=\"1\" class=\"dataframe\">\n",
       "  <thead>\n",
       "    <tr style=\"text-align: right;\">\n",
       "      <th></th>\n",
       "      <th>total_revenue</th>\n",
       "      <th>percentage_of_total_revenue</th>\n",
       "    </tr>\n",
       "    <tr>\n",
       "      <th>sales_method</th>\n",
       "      <th></th>\n",
       "      <th></th>\n",
       "    </tr>\n",
       "  </thead>\n",
       "  <tbody>\n",
       "    <tr>\n",
       "      <th>Email</th>\n",
       "      <td>719226.47</td>\n",
       "      <td>0.50</td>\n",
       "    </tr>\n",
       "    <tr>\n",
       "      <th>Email + Call</th>\n",
       "      <td>463724.49</td>\n",
       "      <td>0.33</td>\n",
       "    </tr>\n",
       "    <tr>\n",
       "      <th>Call</th>\n",
       "      <td>242451.80</td>\n",
       "      <td>0.17</td>\n",
       "    </tr>\n",
       "  </tbody>\n",
       "</table>\n",
       "</div>"
      ],
      "text/plain": [
       "              total_revenue  percentage_of_total_revenue\n",
       "sales_method                                            \n",
       "Email             719226.47                         0.50\n",
       "Email + Call      463724.49                         0.33\n",
       "Call              242451.80                         0.17"
      ]
     },
     "execution_count": 28,
     "metadata": {},
     "output_type": "execute_result"
    }
   ],
   "source": [
    "# Calculate the total revenue by sales method.\n",
    "product_sales.groupby('sales_method') \\\n",
    "             .agg(total_revenue = ('revenue', 'sum')) \\\n",
    "             .sort_values('total_revenue', ascending=False) \\\n",
    "             .assign(percentage_of_total_revenue = lambda x: round(x.total_revenue / sum(x.total_revenue), 2))"
   ]
  },
  {
   "cell_type": "code",
   "execution_count": 29,
   "id": "710f4329-4b76-4a74-b61f-489bcbf6213f",
   "metadata": {
    "tags": []
   },
   "outputs": [
    {
     "data": {
      "image/png": "[encoded data removed]",
      "text/plain": [
       "<Figure size 432x288 with 1 Axes>"
      ]
     },
     "metadata": {
      "needs_background": "light"
     },
     "output_type": "display_data"
    }
   ],
   "source": [
    "# Visualize total revenue by sales method.\n",
    "sns.barplot(data=product_sales,\n",
    "            x='sales_method',\n",
    "            y='revenue',\n",
    "            hue_order=['Email + Call', 'Email', 'Call'],\n",
    "            estimator='sum',\n",
    "            errorbar=None\n",
    "           )\n",
    "plt.title(\"Total Revenue per Sales Method\",\n",
    "          fontsize=15,\n",
    "          y=1.03)\n",
    "plt.xlabel(\"\")\n",
    "plt.ylabel(\"Revenue (USD)\", labelpad=10)\n",
    "plt.yticks([100000, 200000, 300000, 400000, 500000, 600000, 700000],\n",
    "           [\"100K\", \"200K\", \"300K\", \"400K\", \"500K\", \"600K\", \"700K\"])\n",
    "plt.show()"
   ]
  },
  {
   "cell_type": "markdown",
   "id": "af0adf96-5a7d-4ff4-9462-7cf9dea9dd2b",
   "metadata": {},
   "source": [
    "`Email` promotions are very easy to launch and execute with a well-organized and well-maintained Customer Relationship Management (CRM) system. The process can be easily automated and requires less manpower and costs. It is the best way to quickly and easily reach a wide customer base and offer them quick interactive access to the whole company's product range. \n",
    "\n",
    "Email + Call emerges as the best combination for higher-priced products. This option combines the convenience of email campaigns with direct business contact via a phone call for a more personalized approach. At first, the businesses are informed about the promotion by email. This shortens the average duration of the follow-up phone calls per customer by around 70% compared to the `Call`-only sales strategy. The follow-up phone call acts as a call-to-action reinforcement to motivate the prospects to a new purchase.\n",
    "\n",
    "Paradoxically, the combined sales method `Email + Call` was applied to the smallest customer sample (ca.17%) but it managed to register the highest growth pace and to generate the second highest revenue (ca.33%). \n",
    "\n",
    "The `Call` only strategy seems to be very time-consuming and generates below-average revenue in a very low-price segment. Phone calls with an average duration of 30 minutes per client for low-revenue orders are not economically and strategically justifiable.\n",
    "\n",
    "The data provided by the company from its sales tracking system had many missing values in the most relevant parameter — `revenue`. The dataset contained sales figures for the last six weeks since the latest promotion launch. But the numbers about the website visits were unusable as they were related to a period of the last _six months_ (according to the data dictionary) which did not allow me to explore the impact of the latest sales campaign on the web traffic on the website. To reliably examine the effectiveness of the online promotion, metrics like click-through rates of the email links and conversion rates by sales orders should be analyzed too.\n",
    "\n",
    "I would also recommend a more granular exploration of Pens and Printers' customer base. According to the data, around 70% of the company's revenue is generated by newly acquired customers in the last five years."
   ]
  },
  {
   "cell_type": "code",
   "execution_count": 30,
   "id": "423ba24c-8d89-45db-b5b4-399bd094f201",
   "metadata": {
    "tags": []
   },
   "outputs": [
    {
     "data": {
      "image/png": "[encoded data removed]",
      "text/plain": [
       "<Figure size 432x288 with 1 Axes>"
      ]
     },
     "metadata": {
      "needs_background": "light"
     },
     "output_type": "display_data"
    }
   ],
   "source": [
    "# Revenue vs years as a client.\n",
    "sns.barplot(data=product_sales,\n",
    "            x='years_as_customer',\n",
    "            y='revenue',\n",
    "            estimator='sum',\n",
    "            errorbar=None,\n",
    "            width=1,\n",
    "            saturation=0.9\n",
    "            )\n",
    "plt.title(\"Total Revenue by Years as Customer\",\n",
    "          y=1.03,\n",
    "          fontsize=15)\n",
    "plt.xticks(range(0, 39, 5))\n",
    "plt.yticks(range(50000, 300000, 50000))\n",
    "plt.xlabel(\"Years as Customer\",\n",
    "           labelpad=10)\n",
    "plt.ylabel(\"Total Revenue (USD)\",\n",
    "           labelpad=10)\n",
    "plt.yticks([50000, 100000, 150000, 200000, 250000],\n",
    "           [\"50K\", \"100K\", \"150K\", \"200K\", \"250K\"])\n",
    "plt.show()"
   ]
  },
  {
   "cell_type": "markdown",
   "id": "4eb70bd4-887b-45fe-92b5-db39b6c68b10",
   "metadata": {},
   "source": [
    "It is also of interest to identify the top customers geographically. Businesses from only ten US states generate over 50% of Pens and Printers revenue. There is a big potential to increase profits by targeting new customers in US states with high average revenue per customer."
   ]
  },
  {
   "cell_type": "code",
   "execution_count": 31,
   "id": "5e19036d-4aac-4a17-b1f5-d68b22952d17",
   "metadata": {
    "tags": []
   },
   "outputs": [
    {
     "name": "stdout",
     "output_type": "stream",
     "text": [
      "                total_revenue  number_clients\n",
      "state                                        \n",
      "California          175710.99            1872\n",
      "Texas               114021.72            1187\n",
      "New York             90025.06             965\n",
      "Florida              86518.56             904\n",
      "Illinois             56990.35             617\n",
      "Pennsylvania         56153.94             598\n",
      "Ohio                 52759.74             566\n",
      "Michigan             47952.04             498\n",
      "Georgia              46952.66             489\n",
      "North Carolina       41748.56             459\n",
      "New Jersey           39907.06             434\n",
      "Virginia             36663.53             372\n",
      "Indiana              33709.47             354\n",
      "Washington           33204.27             335\n",
      "Tennessee            31468.00             340\n",
      "Arizona              29907.36             321\n",
      "Missouri             29239.36             311\n",
      "Massachusetts        27771.06             294\n",
      "Maryland             24897.51             263\n",
      "Wisconsin            24110.31             253\n",
      "Minnesota            23296.09             245\n",
      "South Carolina       22708.10             224\n",
      "Oregon               22696.58             229\n",
      "Louisiana            21952.49             230\n",
      "Colorado             21473.64             230\n",
      "Alabama              21073.64             214\n",
      "Kentucky             20192.35             213\n",
      "Oklahoma             18902.74             196\n",
      "Connecticut          17852.23             179\n",
      "Iowa                 15349.08             165\n",
      "Mississippi          13881.22             139\n",
      "Kansas               13234.68             142\n",
      "Utah                 12287.31             124\n",
      "Arkansas             12172.38             132\n",
      "Nevada                9981.58             102\n",
      "Nebraska              9014.93              91\n",
      "West Virginia         8628.12              85\n",
      "New Mexico            8336.03              84\n",
      "Hawaii                7136.97              72\n",
      "Idaho                 6256.53              62\n",
      "Maine                 5560.60              63\n",
      "New Hampshire         4863.90              53\n",
      "South Dakota          4386.99              41\n",
      "Rhode Island          4118.30              43\n",
      "Alaska                3742.78              40\n",
      "Montana               3738.30              45\n",
      "Delaware              3618.51              34\n",
      "Wyoming               3160.25              33\n",
      "North Dakota          3100.63              30\n",
      "Vermont               2974.26              28\n",
      "            state  total_revenue  number_clients  revenue_per_client\n",
      "0      California      175710.99            1872           93.862708\n",
      "1           Texas      114021.72            1187           96.058736\n",
      "2        New York       90025.06             965           93.290218\n",
      "3         Florida       86518.56             904           95.706372\n",
      "4        Illinois       56990.35             617           92.366856\n",
      "5    Pennsylvania       56153.94             598           93.902910\n",
      "6            Ohio       52759.74             566           93.215088\n",
      "7        Michigan       47952.04             498           96.289237\n",
      "8         Georgia       46952.66             489           96.017710\n",
      "9  North Carolina       41748.56             459           90.955468\n",
      "             state  total_revenue  number_clients  revenue_per_client\n",
      "42    South Dakota        4386.99              41          106.999756\n",
      "46        Delaware        3618.51              34          106.426765\n",
      "49         Vermont        2974.26              28          106.223571\n",
      "48    North Dakota        3100.63              30          103.354333\n",
      "36   West Virginia        8628.12              85          101.507294\n",
      "21  South Carolina       22708.10             224          101.375446\n",
      "39           Idaho        6256.53              62          100.911774\n",
      "30     Mississippi       13881.22             139           99.864892\n",
      "28     Connecticut       17852.23             179           99.733128\n",
      "37      New Mexico        8336.03              84           99.238452\n"
     ]
    },
    {
     "data": {
      "text/plain": [
       "0.5393799153300363"
      ]
     },
     "execution_count": 31,
     "metadata": {},
     "output_type": "execute_result"
    }
   ],
   "source": [
    "# Explore customer base geographically.\n",
    "revenue_vs_clients = product_sales.groupby('state').agg(total_revenue = ('revenue', 'sum'), number_clients = ('customer_id', 'count')).sort_values(['total_revenue', 'number_clients'], ascending = [False, False])\n",
    "print(revenue_vs_clients)\n",
    "\n",
    "# Average revenue per client\n",
    "revenue_per_client = revenue_vs_clients.assign(revenue_per_client = revenue_vs_clients['total_revenue']/revenue_vs_clients['number_clients']).reset_index()\n",
    "\n",
    "# Top 10 US states with highest revenues\n",
    "print(revenue_per_client.sort_values('total_revenue', ascending=False).head(10))\n",
    "\n",
    "# Top 10 US states with highest revenue per client\n",
    "print(revenue_per_client.sort_values('revenue_per_client', ascending=False).head(10))\n",
    "\n",
    "revenue_per_client.sort_values('total_revenue', ascending=False).head(10)['total_revenue'].sum() / revenue_per_client.sort_values('total_revenue', ascending=False)['total_revenue'].sum()"
   ]
  },
  {
   "cell_type": "code",
   "execution_count": 32,
   "id": "0325842a-1649-496f-a8a9-7c76ff929a5b",
   "metadata": {
    "tags": []
   },
   "outputs": [
    {
     "data": {
      "image/png": "[encoded data removed]",
      "text/plain": [
       "<Figure size 432x288 with 1 Axes>"
      ]
     },
     "metadata": {
      "needs_background": "light"
     },
     "output_type": "display_data"
    }
   ],
   "source": [
    "# Top ten states by Total Revenue.\n",
    "sns.barplot(data=revenue_per_client.head(10),\n",
    "            x='total_revenue',\n",
    "            y='state')\n",
    "plt.title(\"Top Ten US States by Total Revenue (USD)\",\n",
    "          fontsize=15,\n",
    "          y=1.03)\n",
    "plt.xlabel(\"Total Revenue (USD)\", labelpad=10)\n",
    "plt.ylabel(\"US State\", labelpad=10)\n",
    "plt.xticks([0, 25000, 50000, 75000, 100000, 125000, 150000, 175000],\n",
    "           [\"0\", \"25K\", \"50K\", \"75K\", \"100K\", \"125K\", \"150K\", \"175K\"])\n",
    "plt.show()"
   ]
  },
  {
   "cell_type": "markdown",
   "id": "5e7eeb3c-a263-4cc7-8e31-c1754c08b839",
   "metadata": {},
   "source": [
    "This data analysis aims to explore the different factors that affect the success of the promotion campaign of Pens and Printers and how they can use these insights to refine and improve their sales strategies.\n",
    "\n",
    "Key Performance Indicators (KPIs) are crucial metrics used to assess the effectiveness of different business strategies. Businesses can track their progress and make informed decisions to improve performance by monitoring KPIs.\n",
    "\n",
    "For Pens and Printers, the primary KPI metric to monitor is revenue generated through product sales during the promotion campaign. It is essential to analyze and gauge the revenue at a granular level to understand the factors that affect it. This includes:\n",
    "* revenue by different sales methods (email, call, and combined)\n",
    "* revenue by product categories \n",
    "* revenue by price ranges\n",
    "* revenue by customer segments, i.e. by geography, business type, length of customer relationships. \n",
    "\n",
    "Email marketing has been found to have a big impact on the success of Pens and Printers promotion campaign. It provides ample opportunities to gather customer data through tracking systems and analyze their behavior online. Pens and Printers can benefit from focusing on strategic and operational integrated marketing based on data analysis of click-through rates, web traffic, and conversion rates of online promotions.\n",
    "By doing so, Pens and Printers can identify successful strategies, replicate them and continuously refine them to generate higher profits.\n",
    "\n",
    "Finally, I would highly recommend that Pens and Printers should invest time in strategically conducting additional marketing experiments based on scientific approaches that can be tested with more sophisticated statistical methods."
   ]
  }
 ],
 "metadata": {
  "kernelspec": {
   "display_name": "Python 3 (ipykernel)",
   "language": "python",
   "name": "python3"
  },
  "language_info": {
   "codemirror_mode": {
    "name": "ipython",
    "version": 3
   },
   "file_extension": ".py",
   "mimetype": "text/x-python",
   "name": "python",
   "nbconvert_exporter": "python",
   "pygments_lexer": "ipython3",
   "version": "3.10.12"
  }
 },
 "nbformat": 4,
 "nbformat_minor": 5
}
